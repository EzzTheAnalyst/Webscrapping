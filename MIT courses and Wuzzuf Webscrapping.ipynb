{
 "cells": [
  {
   "cell_type": "markdown",
   "metadata": {},
   "source": [
    "# MIT Scrapping"
   ]
  },
  {
   "cell_type": "code",
   "execution_count": 1,
   "metadata": {},
   "outputs": [],
   "source": [
    "import requests\n",
    "from bs4 import BeautifulSoup\n",
    "import pandas as pd"
   ]
  },
  {
   "cell_type": "code",
   "execution_count": 2,
   "metadata": {},
   "outputs": [
    {
     "data": {
      "text/plain": [
       "<Response [200]>"
      ]
     },
     "execution_count": 2,
     "metadata": {},
     "output_type": "execute_result"
    }
   ],
   "source": [
    "resp = requests.get(\"https://ocw.mit.edu/courses/6-006-introduction-to-algorithms-spring-2020/resources/lecture-videos/\")\n",
    "resp"
   ]
  },
  {
   "cell_type": "code",
   "execution_count": 3,
   "metadata": {},
   "outputs": [
    {
     "data": {
      "text/plain": [
       "[<div class=\"resource-item resource-list-page\">\n",
       " <div class=\"row\">\n",
       " <div class=\"d-inline-flex\">\n",
       " <a aria-label=\"Download file\" class=\"resource-thumbnail\" download=\"\" href=\"https://archive.org/download/MIT6.006S20/MIT6_006S20_02_04_Lecture_1_300k.mp4\" target=\"_blank\">\n",
       " <div class=\"resource-type-thumbnail video\">\n",
       " <div class=\"d-flex align-self-center\">video</div>\n",
       " </div>\n",
       " <div class=\"download-container\">\n",
       " <span class=\"download-link\">\n",
       " <img aria-hidden=\"true\" class=\"hide-offline resources-download\" src=\"/static_shared/images/resource-download.dab02d010ffdeffef264.svg\"/>\n",
       " </span>\n",
       " <div class=\"resource-list-file-size\">\n",
       "                 102 MB\n",
       "               </div>\n",
       " </div>\n",
       " </a>\n",
       " <div class=\"resource-list-item-details\">\n",
       " <a class=\"resource-list-title\" href=\"/courses/6-006-introduction-to-algorithms-spring-2020/resources/lecture-1-algorithms-and-computation/\">Lecture 1: Algorithms and Computation</a>\n",
       " </div>\n",
       " </div>\n",
       " </div>\n",
       " </div>,\n",
       " <div class=\"resource-item resource-list-page\">\n",
       " <div class=\"row\">\n",
       " <div class=\"d-inline-flex\">\n",
       " <a aria-label=\"Download file\" class=\"resource-thumbnail\" download=\"\" href=\"https://archive.org/download/MIT6.006S20/MIT6_006S20_02_07_Problem_Session_1_300k.mp4\" target=\"_blank\">\n",
       " <div class=\"resource-type-thumbnail video\">\n",
       " <div class=\"d-flex align-self-center\">video</div>\n",
       " </div>\n",
       " <div class=\"download-container\">\n",
       " <span class=\"download-link\">\n",
       " <img aria-hidden=\"true\" class=\"hide-offline resources-download\" src=\"/static_shared/images/resource-download.dab02d010ffdeffef264.svg\"/>\n",
       " </span>\n",
       " <div class=\"resource-list-file-size\">\n",
       "                 192 MB\n",
       "               </div>\n",
       " </div>\n",
       " </a>\n",
       " <div class=\"resource-list-item-details\">\n",
       " <a class=\"resource-list-title\" href=\"/courses/6-006-introduction-to-algorithms-spring-2020/resources/problem-session-1/\">Problem Session 1</a>\n",
       " </div>\n",
       " </div>\n",
       " </div>\n",
       " </div>,\n",
       " <div class=\"resource-item resource-list-page\">\n",
       " <div class=\"row\">\n",
       " <div class=\"d-inline-flex\">\n",
       " <a aria-label=\"Download file\" class=\"resource-thumbnail\" download=\"\" href=\"https://archive.org/download/MIT6.006S20/MIT6_006S20_03_06_Quiz_1_Review_300k.mp4\" target=\"_blank\">\n",
       " <div class=\"resource-type-thumbnail video\">\n",
       " <div class=\"d-flex align-self-center\">video</div>\n",
       " </div>\n",
       " <div class=\"download-container\">\n",
       " <span class=\"download-link\">\n",
       " <img aria-hidden=\"true\" class=\"hide-offline resources-download\" src=\"/static_shared/images/resource-download.dab02d010ffdeffef264.svg\"/>\n",
       " </span>\n",
       " <div class=\"resource-list-file-size\">\n",
       "                 191 MB\n",
       "               </div>\n",
       " </div>\n",
       " </a>\n",
       " <div class=\"resource-list-item-details\">\n",
       " <a class=\"resource-list-title\" href=\"/courses/6-006-introduction-to-algorithms-spring-2020/resources/quiz-1-review/\">Quiz 1 Review</a>\n",
       " </div>\n",
       " </div>\n",
       " </div>\n",
       " </div>,\n",
       " <div class=\"resource-item resource-list-page\">\n",
       " <div class=\"row\">\n",
       " <div class=\"d-inline-flex\">\n",
       " <a aria-label=\"Download file\" class=\"resource-thumbnail\" download=\"\" href=\"https://archive.org/download/MIT6.006S20/MIT6_006S20_02_06_Lecture_2_300k.mp4\" target=\"_blank\">\n",
       " <div class=\"resource-type-thumbnail video\">\n",
       " <div class=\"d-flex align-self-center\">video</div>\n",
       " </div>\n",
       " <div class=\"download-container\">\n",
       " <span class=\"download-link\">\n",
       " <img aria-hidden=\"true\" class=\"hide-offline resources-download\" src=\"/static_shared/images/resource-download.dab02d010ffdeffef264.svg\"/>\n",
       " </span>\n",
       " <div class=\"resource-list-file-size\">\n",
       "                 113 MB\n",
       "               </div>\n",
       " </div>\n",
       " </a>\n",
       " <div class=\"resource-list-item-details\">\n",
       " <a class=\"resource-list-title\" href=\"/courses/6-006-introduction-to-algorithms-spring-2020/resources/lecture-2-data-structures-and-dynamic-arrays/\">Lecture 2: Data Structures and Dynamic Arrays</a>\n",
       " </div>\n",
       " </div>\n",
       " </div>\n",
       " </div>,\n",
       " <div class=\"resource-item resource-list-page\">\n",
       " <div class=\"row\">\n",
       " <div class=\"d-inline-flex\">\n",
       " <a aria-label=\"Download file\" class=\"resource-thumbnail\" download=\"\" href=\"https://archive.org/download/MIT6.006S20/MIT6_006S20_02_14_Problem_Session_2_300k.mp4\" target=\"_blank\">\n",
       " <div class=\"resource-type-thumbnail video\">\n",
       " <div class=\"d-flex align-self-center\">video</div>\n",
       " </div>\n",
       " <div class=\"download-container\">\n",
       " <span class=\"download-link\">\n",
       " <img aria-hidden=\"true\" class=\"hide-offline resources-download\" src=\"/static_shared/images/resource-download.dab02d010ffdeffef264.svg\"/>\n",
       " </span>\n",
       " <div class=\"resource-list-file-size\">\n",
       "                 196 MB\n",
       "               </div>\n",
       " </div>\n",
       " </a>\n",
       " <div class=\"resource-list-item-details\">\n",
       " <a class=\"resource-list-title\" href=\"/courses/6-006-introduction-to-algorithms-spring-2020/resources/problem-session-2/\">Problem Session 2</a>\n",
       " </div>\n",
       " </div>\n",
       " </div>\n",
       " </div>,\n",
       " <div class=\"resource-item resource-list-page\">\n",
       " <div class=\"row\">\n",
       " <div class=\"d-inline-flex\">\n",
       " <a aria-label=\"Download file\" class=\"resource-thumbnail\" download=\"\" href=\"https://archive.org/download/MIT6.006S20/MIT6_006S20_04_13_Quiz_2_Review_300k.mp4\" target=\"_blank\">\n",
       " <div class=\"resource-type-thumbnail video\">\n",
       " <div class=\"d-flex align-self-center\">video</div>\n",
       " </div>\n",
       " <div class=\"download-container\">\n",
       " <span class=\"download-link\">\n",
       " <img aria-hidden=\"true\" class=\"hide-offline resources-download\" src=\"/static_shared/images/resource-download.dab02d010ffdeffef264.svg\"/>\n",
       " </span>\n",
       " <div class=\"resource-list-file-size\">\n",
       "                 182 MB\n",
       "               </div>\n",
       " </div>\n",
       " </a>\n",
       " <div class=\"resource-list-item-details\">\n",
       " <a class=\"resource-list-title\" href=\"/courses/6-006-introduction-to-algorithms-spring-2020/resources/quiz-2-review/\">Quiz 2 Review</a>\n",
       " </div>\n",
       " </div>\n",
       " </div>\n",
       " </div>,\n",
       " <div class=\"resource-item resource-list-page\">\n",
       " <div class=\"row\">\n",
       " <div class=\"d-inline-flex\">\n",
       " <a aria-label=\"Download file\" class=\"resource-thumbnail\" download=\"\" href=\"https://archive.org/download/MIT6.006S20/MIT6_006S20_02_11_Lecture_3_300k.mp4\" target=\"_blank\">\n",
       " <div class=\"resource-type-thumbnail video\">\n",
       " <div class=\"d-flex align-self-center\">video</div>\n",
       " </div>\n",
       " <div class=\"download-container\">\n",
       " <span class=\"download-link\">\n",
       " <img aria-hidden=\"true\" class=\"hide-offline resources-download\" src=\"/static_shared/images/resource-download.dab02d010ffdeffef264.svg\"/>\n",
       " </span>\n",
       " <div class=\"resource-list-file-size\">\n",
       "                 119 MB\n",
       "               </div>\n",
       " </div>\n",
       " </a>\n",
       " <div class=\"resource-list-item-details\">\n",
       " <a class=\"resource-list-title\" href=\"/courses/6-006-introduction-to-algorithms-spring-2020/resources/lecture-3-sets-and-sorting/\">Lecture 3: Sets and Sorting</a>\n",
       " </div>\n",
       " </div>\n",
       " </div>\n",
       " </div>,\n",
       " <div class=\"resource-item resource-list-page\">\n",
       " <div class=\"row\">\n",
       " <div class=\"d-inline-flex\">\n",
       " <a aria-label=\"Download file\" class=\"resource-thumbnail\" download=\"\" href=\"https://archive.org/download/MIT6.006S20/MIT6_006S20_02_21_Problem_Session_3_300k.mp4\" target=\"_blank\">\n",
       " <div class=\"resource-type-thumbnail video\">\n",
       " <div class=\"d-flex align-self-center\">video</div>\n",
       " </div>\n",
       " <div class=\"download-container\">\n",
       " <span class=\"download-link\">\n",
       " <img aria-hidden=\"true\" class=\"hide-offline resources-download\" src=\"/static_shared/images/resource-download.dab02d010ffdeffef264.svg\"/>\n",
       " </span>\n",
       " <div class=\"resource-list-file-size\">\n",
       "                 192 MB\n",
       "               </div>\n",
       " </div>\n",
       " </a>\n",
       " <div class=\"resource-list-item-details\">\n",
       " <a class=\"resource-list-title\" href=\"/courses/6-006-introduction-to-algorithms-spring-2020/resources/problem-session-3/\">Problem Session 3</a>\n",
       " </div>\n",
       " </div>\n",
       " </div>\n",
       " </div>,\n",
       " <div class=\"resource-item resource-list-page\">\n",
       " <div class=\"row\">\n",
       " <div class=\"d-inline-flex\">\n",
       " <a aria-label=\"Download file\" class=\"resource-thumbnail\" download=\"\" href=\"https://archive.org/download/MIT6.006S20/MIT6_006S20_05_02_Quiz_3_Review_300k.mp4\" target=\"_blank\">\n",
       " <div class=\"resource-type-thumbnail video\">\n",
       " <div class=\"d-flex align-self-center\">video</div>\n",
       " </div>\n",
       " <div class=\"download-container\">\n",
       " <span class=\"download-link\">\n",
       " <img aria-hidden=\"true\" class=\"hide-offline resources-download\" src=\"/static_shared/images/resource-download.dab02d010ffdeffef264.svg\"/>\n",
       " </span>\n",
       " <div class=\"resource-list-file-size\">\n",
       "                 184 MB\n",
       "               </div>\n",
       " </div>\n",
       " </a>\n",
       " <div class=\"resource-list-item-details\">\n",
       " <a class=\"resource-list-title\" href=\"/courses/6-006-introduction-to-algorithms-spring-2020/resources/quiz-3-review/\">Quiz 3 Review</a>\n",
       " </div>\n",
       " </div>\n",
       " </div>\n",
       " </div>,\n",
       " <div class=\"resource-item resource-list-page\">\n",
       " <div class=\"row\">\n",
       " <div class=\"d-inline-flex\">\n",
       " <a aria-label=\"Download file\" class=\"resource-thumbnail\" download=\"\" href=\"https://archive.org/download/MIT6.006S20/MIT6_006S20_02_13_Lecture_4_300k.mp4\" target=\"_blank\">\n",
       " <div class=\"resource-type-thumbnail video\">\n",
       " <div class=\"d-flex align-self-center\">video</div>\n",
       " </div>\n",
       " <div class=\"download-container\">\n",
       " <span class=\"download-link\">\n",
       " <img aria-hidden=\"true\" class=\"hide-offline resources-download\" src=\"/static_shared/images/resource-download.dab02d010ffdeffef264.svg\"/>\n",
       " </span>\n",
       " <div class=\"resource-list-file-size\">\n",
       "                 118 MB\n",
       "               </div>\n",
       " </div>\n",
       " </a>\n",
       " <div class=\"resource-list-item-details\">\n",
       " <a class=\"resource-list-title\" href=\"/courses/6-006-introduction-to-algorithms-spring-2020/resources/lecture-4-hashing/\">Lecture 4: Hashing</a>\n",
       " </div>\n",
       " </div>\n",
       " </div>\n",
       " </div>,\n",
       " <div class=\"resource-item resource-list-page\">\n",
       " <div class=\"row\">\n",
       " <div class=\"d-inline-flex\">\n",
       " <a aria-label=\"Download file\" class=\"resource-thumbnail\" download=\"\" href=\"https://archive.org/download/MIT6.006S20/MIT6_006S20_02_28_Problem_Session_4_300k.mp4\" target=\"_blank\">\n",
       " <div class=\"resource-type-thumbnail video\">\n",
       " <div class=\"d-flex align-self-center\">video</div>\n",
       " </div>\n",
       " <div class=\"download-container\">\n",
       " <span class=\"download-link\">\n",
       " <img aria-hidden=\"true\" class=\"hide-offline resources-download\" src=\"/static_shared/images/resource-download.dab02d010ffdeffef264.svg\"/>\n",
       " </span>\n",
       " <div class=\"resource-list-file-size\">\n",
       "                 199 MB\n",
       "               </div>\n",
       " </div>\n",
       " </a>\n",
       " <div class=\"resource-list-item-details\">\n",
       " <a class=\"resource-list-title\" href=\"/courses/6-006-introduction-to-algorithms-spring-2020/resources/problem-session-4/\">Problem Session 4</a>\n",
       " </div>\n",
       " </div>\n",
       " </div>\n",
       " </div>,\n",
       " <div class=\"resource-item resource-list-page\">\n",
       " <div class=\"row\">\n",
       " <div class=\"d-inline-flex\">\n",
       " <a aria-label=\"Download file\" class=\"resource-thumbnail\" download=\"\" href=\"https://archive.org/download/MIT6.006S20/MIT6_006S20_02_20_Lecture_5_300k.mp4\" target=\"_blank\">\n",
       " <div class=\"resource-type-thumbnail video\">\n",
       " <div class=\"d-flex align-self-center\">video</div>\n",
       " </div>\n",
       " <div class=\"download-container\">\n",
       " <span class=\"download-link\">\n",
       " <img aria-hidden=\"true\" class=\"hide-offline resources-download\" src=\"/static_shared/images/resource-download.dab02d010ffdeffef264.svg\"/>\n",
       " </span>\n",
       " <div class=\"resource-list-file-size\">\n",
       "                 115 MB\n",
       "               </div>\n",
       " </div>\n",
       " </a>\n",
       " <div class=\"resource-list-item-details\">\n",
       " <a class=\"resource-list-title\" href=\"/courses/6-006-introduction-to-algorithms-spring-2020/resources/lecture-5-linear-sorting/\">Lecture 5: Linear Sorting</a>\n",
       " </div>\n",
       " </div>\n",
       " </div>\n",
       " </div>,\n",
       " <div class=\"resource-item resource-list-page\">\n",
       " <div class=\"row\">\n",
       " <div class=\"d-inline-flex\">\n",
       " <a aria-label=\"Download file\" class=\"resource-thumbnail\" download=\"\" href=\"https://archive.org/download/MIT6.006S20/MIT6_006S20_03_13_Problem_Session_5_300k.mp4\" target=\"_blank\">\n",
       " <div class=\"resource-type-thumbnail video\">\n",
       " <div class=\"d-flex align-self-center\">video</div>\n",
       " </div>\n",
       " <div class=\"download-container\">\n",
       " <span class=\"download-link\">\n",
       " <img aria-hidden=\"true\" class=\"hide-offline resources-download\" src=\"/static_shared/images/resource-download.dab02d010ffdeffef264.svg\"/>\n",
       " </span>\n",
       " <div class=\"resource-list-file-size\">\n",
       "                 197 MB\n",
       "               </div>\n",
       " </div>\n",
       " </a>\n",
       " <div class=\"resource-list-item-details\">\n",
       " <a class=\"resource-list-title\" href=\"/courses/6-006-introduction-to-algorithms-spring-2020/resources/problem-session-5/\">Problem Session 5</a>\n",
       " </div>\n",
       " </div>\n",
       " </div>\n",
       " </div>,\n",
       " <div class=\"resource-item resource-list-page\">\n",
       " <div class=\"row\">\n",
       " <div class=\"d-inline-flex\">\n",
       " <a aria-label=\"Download file\" class=\"resource-thumbnail\" download=\"\" href=\"https://archive.org/download/MIT6.006S20/MIT6_006S20_02_25_Lecture_6_300k.mp4\" target=\"_blank\">\n",
       " <div class=\"resource-type-thumbnail video\">\n",
       " <div class=\"d-flex align-self-center\">video</div>\n",
       " </div>\n",
       " <div class=\"download-container\">\n",
       " <span class=\"download-link\">\n",
       " <img aria-hidden=\"true\" class=\"hide-offline resources-download\" src=\"/static_shared/images/resource-download.dab02d010ffdeffef264.svg\"/>\n",
       " </span>\n",
       " <div class=\"resource-list-file-size\">\n",
       "                 114 MB\n",
       "               </div>\n",
       " </div>\n",
       " </a>\n",
       " <div class=\"resource-list-item-details\">\n",
       " <a class=\"resource-list-title\" href=\"/courses/6-006-introduction-to-algorithms-spring-2020/resources/lecture-6-binary-trees-part-1/\">Lecture 6: Binary Trees, Part 1</a>\n",
       " </div>\n",
       " </div>\n",
       " </div>\n",
       " </div>,\n",
       " <div class=\"resource-item resource-list-page\">\n",
       " <div class=\"row\">\n",
       " <div class=\"d-inline-flex\">\n",
       " <a aria-label=\"Download file\" class=\"resource-thumbnail\" download=\"\" href=\"https://archive.org/download/MIT6.006S20/MIT6_006S20_02_27_Lecture_7_300k.mp4\" target=\"_blank\">\n",
       " <div class=\"resource-type-thumbnail video\">\n",
       " <div class=\"d-flex align-self-center\">video</div>\n",
       " </div>\n",
       " <div class=\"download-container\">\n",
       " <span class=\"download-link\">\n",
       " <img aria-hidden=\"true\" class=\"hide-offline resources-download\" src=\"/static_shared/images/resource-download.dab02d010ffdeffef264.svg\"/>\n",
       " </span>\n",
       " <div class=\"resource-list-file-size\">\n",
       "                 121 MB\n",
       "               </div>\n",
       " </div>\n",
       " </a>\n",
       " <div class=\"resource-list-item-details\">\n",
       " <a class=\"resource-list-title\" href=\"/courses/6-006-introduction-to-algorithms-spring-2020/resources/lecture-7-binary-trees-part-2-avl/\">Lecture 7: Binary Trees, Part 2: AVL</a>\n",
       " </div>\n",
       " </div>\n",
       " </div>\n",
       " </div>,\n",
       " <div class=\"resource-item resource-list-page\">\n",
       " <div class=\"row\">\n",
       " <div class=\"d-inline-flex\">\n",
       " <a aria-label=\"Download file\" class=\"resource-thumbnail\" download=\"\" href=\"https://archive.org/download/MIT6.006S20/MIT6_006S20_03_03_Lecture_8_300k.mp4\" target=\"_blank\">\n",
       " <div class=\"resource-type-thumbnail video\">\n",
       " <div class=\"d-flex align-self-center\">video</div>\n",
       " </div>\n",
       " <div class=\"download-container\">\n",
       " <span class=\"download-link\">\n",
       " <img aria-hidden=\"true\" class=\"hide-offline resources-download\" src=\"/static_shared/images/resource-download.dab02d010ffdeffef264.svg\"/>\n",
       " </span>\n",
       " <div class=\"resource-list-file-size\">\n",
       "                 112 MB\n",
       "               </div>\n",
       " </div>\n",
       " </a>\n",
       " <div class=\"resource-list-item-details\">\n",
       " <a class=\"resource-list-title\" href=\"/courses/6-006-introduction-to-algorithms-spring-2020/resources/lecture-8-binary-heaps/\">Lecture 8: Binary Heaps</a>\n",
       " </div>\n",
       " </div>\n",
       " </div>\n",
       " </div>,\n",
       " <div class=\"resource-item resource-list-page\">\n",
       " <div class=\"row\">\n",
       " <div class=\"d-inline-flex\">\n",
       " <a aria-label=\"Download file\" class=\"resource-thumbnail\" download=\"\" href=\"https://archive.org/download/MIT6.006S20/MIT6_006S20_03_05_Lecture_9_300k.mp4\" target=\"_blank\">\n",
       " <div class=\"resource-type-thumbnail video\">\n",
       " <div class=\"d-flex align-self-center\">video</div>\n",
       " </div>\n",
       " <div class=\"download-container\">\n",
       " <span class=\"download-link\">\n",
       " <img aria-hidden=\"true\" class=\"hide-offline resources-download\" src=\"/static_shared/images/resource-download.dab02d010ffdeffef264.svg\"/>\n",
       " </span>\n",
       " <div class=\"resource-list-file-size\">\n",
       "                 118 MB\n",
       "               </div>\n",
       " </div>\n",
       " </a>\n",
       " <div class=\"resource-list-item-details\">\n",
       " <a class=\"resource-list-title\" href=\"/courses/6-006-introduction-to-algorithms-spring-2020/resources/lecture-9-breadth-first-search/\">Lecture 9: Breadth-First Search</a>\n",
       " </div>\n",
       " </div>\n",
       " </div>\n",
       " </div>,\n",
       " <div class=\"resource-item resource-list-page\">\n",
       " <div class=\"row\">\n",
       " <div class=\"d-inline-flex\">\n",
       " <a aria-label=\"Download file\" class=\"resource-thumbnail\" download=\"\" href=\"https://archive.org/download/MIT6.006S20/MIT6_006S20_03_10_Lecture_10_300k.mp4\" target=\"_blank\">\n",
       " <div class=\"resource-type-thumbnail video\">\n",
       " <div class=\"d-flex align-self-center\">video</div>\n",
       " </div>\n",
       " <div class=\"download-container\">\n",
       " <span class=\"download-link\">\n",
       " <img aria-hidden=\"true\" class=\"hide-offline resources-download\" src=\"/static_shared/images/resource-download.dab02d010ffdeffef264.svg\"/>\n",
       " </span>\n",
       " <div class=\"resource-list-file-size\">\n",
       "                 118 MB\n",
       "               </div>\n",
       " </div>\n",
       " </a>\n",
       " <div class=\"resource-list-item-details\">\n",
       " <a class=\"resource-list-title\" href=\"/courses/6-006-introduction-to-algorithms-spring-2020/resources/lecture-10-depth-first-search/\">Lecture 10: Depth-First Search</a>\n",
       " </div>\n",
       " </div>\n",
       " </div>\n",
       " </div>,\n",
       " <div class=\"resource-item resource-list-page\">\n",
       " <div class=\"row\">\n",
       " <div class=\"d-inline-flex\">\n",
       " <a aria-label=\"Download file\" class=\"resource-thumbnail\" download=\"\" href=\"https://archive.org/download/MIT6.006S20/MIT6_006S20_03_12_Lecture_11_300k.mp4\" target=\"_blank\">\n",
       " <div class=\"resource-type-thumbnail video\">\n",
       " <div class=\"d-flex align-self-center\">video</div>\n",
       " </div>\n",
       " <div class=\"download-container\">\n",
       " <span class=\"download-link\">\n",
       " <img aria-hidden=\"true\" class=\"hide-offline resources-download\" src=\"/static_shared/images/resource-download.dab02d010ffdeffef264.svg\"/>\n",
       " </span>\n",
       " <div class=\"resource-list-file-size\">\n",
       "                 129 MB\n",
       "               </div>\n",
       " </div>\n",
       " </a>\n",
       " <div class=\"resource-list-item-details\">\n",
       " <a class=\"resource-list-title\" href=\"/courses/6-006-introduction-to-algorithms-spring-2020/resources/lecture-11-weighted-shortest-paths/\">Lecture 11: Weighted Shortest Paths</a>\n",
       " </div>\n",
       " </div>\n",
       " </div>\n",
       " </div>,\n",
       " <div class=\"resource-item resource-list-page\">\n",
       " <div class=\"row\">\n",
       " <div class=\"d-inline-flex\">\n",
       " <a aria-label=\"Download file\" class=\"resource-thumbnail\" download=\"\" href=\"https://archive.org/download/MIT6.006S20/MIT6_006S20_03_19_Lecture_12_300k.mp4\" target=\"_blank\">\n",
       " <div class=\"resource-type-thumbnail video\">\n",
       " <div class=\"d-flex align-self-center\">video</div>\n",
       " </div>\n",
       " <div class=\"download-container\">\n",
       " <span class=\"download-link\">\n",
       " <img aria-hidden=\"true\" class=\"hide-offline resources-download\" src=\"/static_shared/images/resource-download.dab02d010ffdeffef264.svg\"/>\n",
       " </span>\n",
       " <div class=\"resource-list-file-size\">\n",
       "                 128 MB\n",
       "               </div>\n",
       " </div>\n",
       " </a>\n",
       " <div class=\"resource-list-item-details\">\n",
       " <a class=\"resource-list-title\" href=\"/courses/6-006-introduction-to-algorithms-spring-2020/resources/lecture-12-bellman-ford/\">Lecture 12: Bellman-Ford</a>\n",
       " </div>\n",
       " </div>\n",
       " </div>\n",
       " </div>,\n",
       " <div class=\"resource-item resource-list-page\">\n",
       " <div class=\"row\">\n",
       " <div class=\"d-inline-flex\">\n",
       " <a aria-label=\"Download file\" class=\"resource-thumbnail\" download=\"\" href=\"https://archive.org/download/MIT6.006S20/MIT6_006S20_04_07_Lecture_13_300k.mp4\" target=\"_blank\">\n",
       " <div class=\"resource-type-thumbnail video\">\n",
       " <div class=\"d-flex align-self-center\">video</div>\n",
       " </div>\n",
       " <div class=\"download-container\">\n",
       " <span class=\"download-link\">\n",
       " <img aria-hidden=\"true\" class=\"hide-offline resources-download\" src=\"/static_shared/images/resource-download.dab02d010ffdeffef264.svg\"/>\n",
       " </span>\n",
       " <div class=\"resource-list-file-size\">\n",
       "                 128 MB\n",
       "               </div>\n",
       " </div>\n",
       " </a>\n",
       " <div class=\"resource-list-item-details\">\n",
       " <a class=\"resource-list-title\" href=\"/courses/6-006-introduction-to-algorithms-spring-2020/resources/lecture-13-dijkstra/\">Lecture 13: Dijkstra</a>\n",
       " </div>\n",
       " </div>\n",
       " </div>\n",
       " </div>,\n",
       " <div class=\"resource-item resource-list-page\">\n",
       " <div class=\"row\">\n",
       " <div class=\"d-inline-flex\">\n",
       " <a aria-label=\"Download file\" class=\"resource-thumbnail\" download=\"\" href=\"https://archive.org/download/MIT6.006S20/MIT6_006S20_04_09_Lecture_14_300k.mp4\" target=\"_blank\">\n",
       " <div class=\"resource-type-thumbnail video\">\n",
       " <div class=\"d-flex align-self-center\">video</div>\n",
       " </div>\n",
       " <div class=\"download-container\">\n",
       " <span class=\"download-link\">\n",
       " <img aria-hidden=\"true\" class=\"hide-offline resources-download\" src=\"/static_shared/images/resource-download.dab02d010ffdeffef264.svg\"/>\n",
       " </span>\n",
       " <div class=\"resource-list-file-size\">\n",
       "                 126 MB\n",
       "               </div>\n",
       " </div>\n",
       " </a>\n",
       " <div class=\"resource-list-item-details\">\n",
       " <a class=\"resource-list-title\" href=\"/courses/6-006-introduction-to-algorithms-spring-2020/resources/lecture-14-apsp-and-johnson/\">Lecture 14: APSP and Johnson</a>\n",
       " </div>\n",
       " </div>\n",
       " </div>\n",
       " </div>,\n",
       " <div class=\"resource-item resource-list-page\">\n",
       " <div class=\"row\">\n",
       " <div class=\"d-inline-flex\">\n",
       " <a aria-label=\"Download file\" class=\"resource-thumbnail\" download=\"\" href=\"https://archive.org/download/MIT6.006S20/MIT6_006S20_04_14_Lecture_15_300k.mp4\" target=\"_blank\">\n",
       " <div class=\"resource-type-thumbnail video\">\n",
       " <div class=\"d-flex align-self-center\">video</div>\n",
       " </div>\n",
       " <div class=\"download-container\">\n",
       " <span class=\"download-link\">\n",
       " <img aria-hidden=\"true\" class=\"hide-offline resources-download\" src=\"/static_shared/images/resource-download.dab02d010ffdeffef264.svg\"/>\n",
       " </span>\n",
       " <div class=\"resource-list-file-size\">\n",
       "                 128 MB\n",
       "               </div>\n",
       " </div>\n",
       " </a>\n",
       " <div class=\"resource-list-item-details\">\n",
       " <a class=\"resource-list-title\" href=\"/courses/6-006-introduction-to-algorithms-spring-2020/resources/lecture-15-dynamic-programming-part-1-srtbot-fib-dags-bowling/\">Lecture 15: Dynamic Programming, Part 1: SRTBOT, Fib, DAGs, Bowling</a>\n",
       " </div>\n",
       " </div>\n",
       " </div>\n",
       " </div>,\n",
       " <div class=\"resource-item resource-list-page\">\n",
       " <div class=\"row\">\n",
       " <div class=\"d-inline-flex\">\n",
       " <a aria-label=\"Download file\" class=\"resource-thumbnail\" download=\"\" href=\"https://archive.org/download/MIT6.006S20/MIT6_006S20_04_16_Lecture_16_300k.mp4\" target=\"_blank\">\n",
       " <div class=\"resource-type-thumbnail video\">\n",
       " <div class=\"d-flex align-self-center\">video</div>\n",
       " </div>\n",
       " <div class=\"download-container\">\n",
       " <span class=\"download-link\">\n",
       " <img aria-hidden=\"true\" class=\"hide-offline resources-download\" src=\"/static_shared/images/resource-download.dab02d010ffdeffef264.svg\"/>\n",
       " </span>\n",
       " <div class=\"resource-list-file-size\">\n",
       "                 132 MB\n",
       "               </div>\n",
       " </div>\n",
       " </a>\n",
       " <div class=\"resource-list-item-details\">\n",
       " <a class=\"resource-list-title\" href=\"/courses/6-006-introduction-to-algorithms-spring-2020/resources/lecture-16-dynamic-programming-part-2-lcs-lis-coins/\">Lecture 16: Dynamic Programming, Part 2: LCS, LIS, Coins</a>\n",
       " </div>\n",
       " </div>\n",
       " </div>\n",
       " </div>,\n",
       " <div class=\"resource-item resource-list-page\">\n",
       " <div class=\"row\">\n",
       " <div class=\"d-inline-flex\">\n",
       " <a aria-label=\"Download file\" class=\"resource-thumbnail\" download=\"\" href=\"https://archive.org/download/MIT6.006S20/MIT6_006S20_04_23_Lecture_17_300k.mp4\" target=\"_blank\">\n",
       " <div class=\"resource-type-thumbnail video\">\n",
       " <div class=\"d-flex align-self-center\">video</div>\n",
       " </div>\n",
       " <div class=\"download-container\">\n",
       " <span class=\"download-link\">\n",
       " <img aria-hidden=\"true\" class=\"hide-offline resources-download\" src=\"/static_shared/images/resource-download.dab02d010ffdeffef264.svg\"/>\n",
       " </span>\n",
       " <div class=\"resource-list-file-size\">\n",
       "                 141 MB\n",
       "               </div>\n",
       " </div>\n",
       " </a>\n",
       " <div class=\"resource-list-item-details\">\n",
       " <a class=\"resource-list-title\" href=\"/courses/6-006-introduction-to-algorithms-spring-2020/resources/lecture-17-dynamic-programming-part-3-apsp-parens-piano/\">Lecture 17: Dynamic Programming, Part 3: APSP, Parens, Piano</a>\n",
       " </div>\n",
       " </div>\n",
       " </div>\n",
       " </div>,\n",
       " <div class=\"resource-item resource-list-page\">\n",
       " <div class=\"row\">\n",
       " <div class=\"d-inline-flex\">\n",
       " <a aria-label=\"Download file\" class=\"resource-thumbnail\" download=\"\" href=\"https://archive.org/download/MIT6.006S20/MIT6_006S20_04_28_Lecture_18_300k.mp4\" target=\"_blank\">\n",
       " <div class=\"resource-type-thumbnail video\">\n",
       " <div class=\"d-flex align-self-center\">video</div>\n",
       " </div>\n",
       " <div class=\"download-container\">\n",
       " <span class=\"download-link\">\n",
       " <img aria-hidden=\"true\" class=\"hide-offline resources-download\" src=\"/static_shared/images/resource-download.dab02d010ffdeffef264.svg\"/>\n",
       " </span>\n",
       " <div class=\"resource-list-file-size\">\n",
       "                 142 MB\n",
       "               </div>\n",
       " </div>\n",
       " </a>\n",
       " <div class=\"resource-list-item-details\">\n",
       " <a class=\"resource-list-title\" href=\"/courses/6-006-introduction-to-algorithms-spring-2020/resources/lecture-18-dynamic-programming-part-4-rods-subset-sum-pseudopolynomial/\">Lecture 18: Dynamic Programming, Part 4: Rods, Subset Sum, Pseudopolynomial</a>\n",
       " </div>\n",
       " </div>\n",
       " </div>\n",
       " </div>,\n",
       " <div class=\"resource-item resource-list-page\">\n",
       " <div class=\"row\">\n",
       " <div class=\"d-inline-flex\">\n",
       " <a aria-label=\"Download file\" class=\"resource-thumbnail\" download=\"\" href=\"https://archive.org/download/MIT6.006S20/MIT6_006S20_04_30_Lecture_19_300k.mp4\" target=\"_blank\">\n",
       " <div class=\"resource-type-thumbnail video\">\n",
       " <div class=\"d-flex align-self-center\">video</div>\n",
       " </div>\n",
       " <div class=\"download-container\">\n",
       " <span class=\"download-link\">\n",
       " <img aria-hidden=\"true\" class=\"hide-offline resources-download\" src=\"/static_shared/images/resource-download.dab02d010ffdeffef264.svg\"/>\n",
       " </span>\n",
       " <div class=\"resource-list-file-size\">\n",
       "                 132 MB\n",
       "               </div>\n",
       " </div>\n",
       " </a>\n",
       " <div class=\"resource-list-item-details\">\n",
       " <a class=\"resource-list-title\" href=\"/courses/6-006-introduction-to-algorithms-spring-2020/resources/lecture-19-complexity/\">Lecture 19: Complexity</a>\n",
       " </div>\n",
       " </div>\n",
       " </div>\n",
       " </div>,\n",
       " <div class=\"resource-item resource-list-page\">\n",
       " <div class=\"row\">\n",
       " <div class=\"d-inline-flex\">\n",
       " <a aria-label=\"Download file\" class=\"resource-thumbnail\" download=\"\" href=\"https://archive.org/download/MIT6.006S20/MIT6_006S20_05_05_Lecture_20_300k.mp4\" target=\"_blank\">\n",
       " <div class=\"resource-type-thumbnail video\">\n",
       " <div class=\"d-flex align-self-center\">video</div>\n",
       " </div>\n",
       " <div class=\"download-container\">\n",
       " <span class=\"download-link\">\n",
       " <img aria-hidden=\"true\" class=\"hide-offline resources-download\" src=\"/static_shared/images/resource-download.dab02d010ffdeffef264.svg\"/>\n",
       " </span>\n",
       " <div class=\"resource-list-file-size\">\n",
       "                 124 MB\n",
       "               </div>\n",
       " </div>\n",
       " </a>\n",
       " <div class=\"resource-list-item-details\">\n",
       " <a class=\"resource-list-title\" href=\"/courses/6-006-introduction-to-algorithms-spring-2020/resources/lecture-20-course-review/\">Lecture 20: Course Review</a>\n",
       " </div>\n",
       " </div>\n",
       " </div>\n",
       " </div>,\n",
       " <div class=\"resource-item resource-list-page\">\n",
       " <div class=\"row\">\n",
       " <div class=\"d-inline-flex\">\n",
       " <a aria-label=\"Download file\" class=\"resource-thumbnail\" download=\"\" href=\"https://archive.org/download/MIT6.006S20/MIT6_006S20_05_12_Lecture_21_300k.mp4\" target=\"_blank\">\n",
       " <div class=\"resource-type-thumbnail video\">\n",
       " <div class=\"d-flex align-self-center\">video</div>\n",
       " </div>\n",
       " <div class=\"download-container\">\n",
       " <span class=\"download-link\">\n",
       " <img aria-hidden=\"true\" class=\"hide-offline resources-download\" src=\"/static_shared/images/resource-download.dab02d010ffdeffef264.svg\"/>\n",
       " </span>\n",
       " <div class=\"resource-list-file-size\">\n",
       "                 132 MB\n",
       "               </div>\n",
       " </div>\n",
       " </a>\n",
       " <div class=\"resource-list-item-details\">\n",
       " <a class=\"resource-list-title\" href=\"/courses/6-006-introduction-to-algorithms-spring-2020/resources/lecture-21-algorithms2014next-steps/\">Lecture 21: AlgorithmsâNext Steps</a>\n",
       " </div>\n",
       " </div>\n",
       " </div>\n",
       " </div>]"
      ]
     },
     "execution_count": 3,
     "metadata": {},
     "output_type": "execute_result"
    }
   ],
   "source": [
    "soupMIT = BeautifulSoup(resp.text, \"html.parser\")\n",
    "divItems = soupMIT.find_all('div', attrs={'class': 'resource-item resource-list-page'})\n",
    "divItems"
   ]
  },
  {
   "cell_type": "code",
   "execution_count": 4,
   "metadata": {},
   "outputs": [
    {
     "data": {
      "text/plain": [
       "<div class=\"resource-item resource-list-page\">\n",
       "<div class=\"row\">\n",
       "<div class=\"d-inline-flex\">\n",
       "<a aria-label=\"Download file\" class=\"resource-thumbnail\" download=\"\" href=\"https://archive.org/download/MIT6.006S20/MIT6_006S20_02_04_Lecture_1_300k.mp4\" target=\"_blank\">\n",
       "<div class=\"resource-type-thumbnail video\">\n",
       "<div class=\"d-flex align-self-center\">video</div>\n",
       "</div>\n",
       "<div class=\"download-container\">\n",
       "<span class=\"download-link\">\n",
       "<img aria-hidden=\"true\" class=\"hide-offline resources-download\" src=\"/static_shared/images/resource-download.dab02d010ffdeffef264.svg\"/>\n",
       "</span>\n",
       "<div class=\"resource-list-file-size\">\n",
       "                102 MB\n",
       "              </div>\n",
       "</div>\n",
       "</a>\n",
       "<div class=\"resource-list-item-details\">\n",
       "<a class=\"resource-list-title\" href=\"/courses/6-006-introduction-to-algorithms-spring-2020/resources/lecture-1-algorithms-and-computation/\">Lecture 1: Algorithms and Computation</a>\n",
       "</div>\n",
       "</div>\n",
       "</div>\n",
       "</div>"
      ]
     },
     "execution_count": 4,
     "metadata": {},
     "output_type": "execute_result"
    }
   ],
   "source": [
    "divItems[0]"
   ]
  },
  {
   "cell_type": "code",
   "execution_count": 5,
   "metadata": {},
   "outputs": [
    {
     "data": {
      "text/plain": [
       "'Lecture 1: Algorithms and Computation'"
      ]
     },
     "execution_count": 5,
     "metadata": {},
     "output_type": "execute_result"
    }
   ],
   "source": [
    "\"\"\" Finding the lecture name \"\"\" \n",
    "lectag = divItems[0].find('a', attrs={'class': 'resource-list-title'})\n",
    "lecname = lectag.text\n",
    "lecname"
   ]
  },
  {
   "cell_type": "code",
   "execution_count": 6,
   "metadata": {},
   "outputs": [
    {
     "data": {
      "text/plain": [
       "'https://ocw.mit.edu/courses/6-006-introduction-to-algorithms-spring-2020/resources/lecture-1-algorithms-and-computation/'"
      ]
     },
     "execution_count": 6,
     "metadata": {},
     "output_type": "execute_result"
    }
   ],
   "source": [
    "\"\"\" Finding the lecture link \"\"\" \n",
    "endpoints = lectag.attrs['href']\n",
    "leclink = \"https://ocw.mit.edu\" + endpoints\n",
    "leclink"
   ]
  },
  {
   "cell_type": "code",
   "execution_count": 7,
   "metadata": {},
   "outputs": [
    {
     "data": {
      "text/plain": [
       "'102 MB'"
      ]
     },
     "execution_count": 7,
     "metadata": {},
     "output_type": "execute_result"
    }
   ],
   "source": [
    "\"\"\" Finding the lecture size \"\"\" \n",
    "lecsize = divItems[0].find('div', attrs={'class': 'resource-list-file-size'})\n",
    "lecsize.text.strip()"
   ]
  },
  {
   "cell_type": "code",
   "execution_count": 8,
   "metadata": {},
   "outputs": [],
   "source": [
    "# create csv\n",
    "with open(\"MITLecs.csv\", mode='w', encoding='utf-8') as fd:\n",
    "    fd.write(\"LectureName, LectureLink, LectureSize\\n\") # headers\n",
    "    # loop\n",
    "    for i in range(len(divItems)):\n",
    "        \"\"\" Returns Lecture Name \"\"\"\n",
    "        lectag = divItems[i].find('a', attrs={'class': 'resource-list-title'})\n",
    "        lecname = lectag.text\n",
    "\n",
    "        \"\"\" Returns Lecture Link \"\"\"\n",
    "        leclink = \"https://ocw.mit.edu\" + lectag.attrs['href']\n",
    "\n",
    "        \"\"\" Returns Lecture Size \"\"\"\n",
    "        lecsize = divItems[i].find('div', attrs={'class': 'resource-list-file-size'}).text.replace(\"\\n\", \" \").strip()\n",
    "    fd.write(f\"\\\"{lecname}\\\",\\\"{leclink}\\\",\\\"{lecsize}\\\"\\n\")"
   ]
  },
  {
   "cell_type": "markdown",
   "metadata": {},
   "source": [
    "## Scraping Python Jobs"
   ]
  },
  {
   "cell_type": "code",
   "execution_count": 9,
   "metadata": {},
   "outputs": [
    {
     "data": {
      "text/plain": [
       "<Response [200]>"
      ]
     },
     "execution_count": 9,
     "metadata": {},
     "output_type": "execute_result"
    }
   ],
   "source": [
    "res = requests.get(\"https://pythonjobs.github.io/\")\n",
    "res"
   ]
  },
  {
   "cell_type": "code",
   "execution_count": 10,
   "metadata": {},
   "outputs": [
    {
     "data": {
      "text/plain": [
       "bs4.BeautifulSoup"
      ]
     },
     "execution_count": 10,
     "metadata": {},
     "output_type": "execute_result"
    }
   ],
   "source": [
    "soupjobs = BeautifulSoup(res.text, \"html.parser\")\n",
    "type(soupjobs)"
   ]
  },
  {
   "cell_type": "code",
   "execution_count": 11,
   "metadata": {},
   "outputs": [],
   "source": [
    "jobs = soupjobs.find_all(\"div\", attrs={\"class\":\"job\"})"
   ]
  },
  {
   "cell_type": "code",
   "execution_count": 12,
   "metadata": {},
   "outputs": [
    {
     "data": {
      "text/plain": [
       "' Prints Job Name '"
      ]
     },
     "execution_count": 12,
     "metadata": {},
     "output_type": "execute_result"
    }
   ],
   "source": [
    "jobtag = jobs[0].find('h1').find('a')\n",
    "JobTitle = jobtag.text\n",
    "JobTitle\n",
    "\"\"\" Prints Job Name \"\"\" "
   ]
  },
  {
   "cell_type": "code",
   "execution_count": 13,
   "metadata": {},
   "outputs": [
    {
     "data": {
      "text/plain": [
       "'https://pythonjobs.github.io/jobs/hbk-strats-developer.html'"
      ]
     },
     "execution_count": 13,
     "metadata": {},
     "output_type": "execute_result"
    }
   ],
   "source": [
    "joblink = \"https://pythonjobs.github.io\" + jobtag['href']\n",
    "joblink"
   ]
  },
  {
   "cell_type": "code",
   "execution_count": 14,
   "metadata": {},
   "outputs": [
    {
     "data": {
      "text/plain": [
       "[<span class=\"info\"><i class=\"i-globe\"></i> London, UK</span>,\n",
       " <span class=\"info\"><i class=\"i-calendar\"></i> Thu, 06 Oct 2022</span>,\n",
       " <span class=\"info\"><i class=\"i-chair\"></i> Permanent</span>,\n",
       " <span class=\"info\"><i class=\"i-company\"></i> HBK Europe Management LLP</span>]"
      ]
     },
     "execution_count": 14,
     "metadata": {},
     "output_type": "execute_result"
    }
   ],
   "source": [
    "jobinfo = jobs[0].find_all(\"span\", attrs={'class':\"info\"})\n",
    "jobinfo"
   ]
  },
  {
   "cell_type": "code",
   "execution_count": 15,
   "metadata": {},
   "outputs": [],
   "source": [
    "joblocation = jobinfo[0].text\n",
    "jobdatepost = jobinfo[1].text\n",
    "jobtype = jobinfo[2].text\n",
    "companyname = jobinfo[3].text\n",
    "\n",
    "jobdesc = jobs[0].find(\"p\", attrs={\"class\":\"detail\"}).text"
   ]
  },
  {
   "cell_type": "code",
   "execution_count": 16,
   "metadata": {},
   "outputs": [],
   "source": [
    "with open('Pyjobs.csv', mode='w', encoding='utf-8') as fd:\n",
    "    fd.write(\"JobTitle,JobLocation,JobDatePost,JobType,CompanyName,JobDescripton\\n\")\n",
    "    # loop\n",
    "    for i in range(len(jobs)):\n",
    "        \"\"\" Returns Job title \"\"\"\n",
    "        jobtag = jobs[i].find('h1').find('a')\n",
    "        JobTitle = jobtag.text\n",
    "\n",
    "        \"\"\" Returns Job location \"\"\"\n",
    "        joblocation = jobinfo[0].text\n",
    "        \n",
    "        \"\"\" Returns Job DATE POST \"\"\"\n",
    "        jobdatepost = jobinfo[1].text\n",
    "\n",
    "        \"\"\" Returns Job Type \"\"\"\n",
    "        jobtype = jobinfo[2].text\n",
    "\n",
    "        \"\"\" Returns Job location \"\"\"\n",
    "        companyname = jobinfo[3].text\n",
    "\n",
    "        jobdesc = jobs[0].find(\"p\", attrs={\"class\":\"detail\"}).text\n",
    "        fd.write(f\"\\\"{JobTitle}\\\",\\\"{joblocation}\\\",\\\"{jobdatepost}\\\",\\\"{jobtype}\\\",\\\"{companyname}\\\",\\\"{jobdesc}\\\"\\n\")        "
   ]
  },
  {
   "cell_type": "code",
   "execution_count": 17,
   "metadata": {},
   "outputs": [
    {
     "data": {
      "text/html": [
       "<div>\n",
       "<style scoped>\n",
       "    .dataframe tbody tr th:only-of-type {\n",
       "        vertical-align: middle;\n",
       "    }\n",
       "\n",
       "    .dataframe tbody tr th {\n",
       "        vertical-align: top;\n",
       "    }\n",
       "\n",
       "    .dataframe thead th {\n",
       "        text-align: right;\n",
       "    }\n",
       "</style>\n",
       "<table border=\"1\" class=\"dataframe\">\n",
       "  <thead>\n",
       "    <tr style=\"text-align: right;\">\n",
       "      <th></th>\n",
       "      <th>JobTitle</th>\n",
       "      <th>JobLocation</th>\n",
       "      <th>JobDatePost</th>\n",
       "      <th>JobType</th>\n",
       "      <th>CompanyName</th>\n",
       "      <th>JobDescripton</th>\n",
       "    </tr>\n",
       "  </thead>\n",
       "  <tbody>\n",
       "    <tr>\n",
       "      <th>0</th>\n",
       "      <td>Strats Python Developer</td>\n",
       "      <td>London, UK</td>\n",
       "      <td>Thu, 06 Oct 2022</td>\n",
       "      <td>Permanent</td>\n",
       "      <td>HBK Europe Management LLP</td>\n",
       "      <td>Overview HBK is searching for a Python softwa...</td>\n",
       "    </tr>\n",
       "    <tr>\n",
       "      <th>1</th>\n",
       "      <td>Python Software Developer</td>\n",
       "      <td>London, UK</td>\n",
       "      <td>Thu, 06 Oct 2022</td>\n",
       "      <td>Permanent</td>\n",
       "      <td>HBK Europe Management LLP</td>\n",
       "      <td>Overview HBK is searching for a Python softwa...</td>\n",
       "    </tr>\n",
       "    <tr>\n",
       "      <th>2</th>\n",
       "      <td>Senior Software Engineer, Back-End (Remote)</td>\n",
       "      <td>London, UK</td>\n",
       "      <td>Thu, 06 Oct 2022</td>\n",
       "      <td>Permanent</td>\n",
       "      <td>HBK Europe Management LLP</td>\n",
       "      <td>Overview HBK is searching for a Python softwa...</td>\n",
       "    </tr>\n",
       "    <tr>\n",
       "      <th>3</th>\n",
       "      <td>Python Backend Engineer</td>\n",
       "      <td>London, UK</td>\n",
       "      <td>Thu, 06 Oct 2022</td>\n",
       "      <td>Permanent</td>\n",
       "      <td>HBK Europe Management LLP</td>\n",
       "      <td>Overview HBK is searching for a Python softwa...</td>\n",
       "    </tr>\n",
       "    <tr>\n",
       "      <th>4</th>\n",
       "      <td>Senior Backend Engineer</td>\n",
       "      <td>London, UK</td>\n",
       "      <td>Thu, 06 Oct 2022</td>\n",
       "      <td>Permanent</td>\n",
       "      <td>HBK Europe Management LLP</td>\n",
       "      <td>Overview HBK is searching for a Python softwa...</td>\n",
       "    </tr>\n",
       "  </tbody>\n",
       "</table>\n",
       "</div>"
      ],
      "text/plain": [
       "                                      JobTitle  JobLocation  \\\n",
       "0                      Strats Python Developer   London, UK   \n",
       "1                    Python Software Developer   London, UK   \n",
       "2  Senior Software Engineer, Back-End (Remote)   London, UK   \n",
       "3                      Python Backend Engineer   London, UK   \n",
       "4                      Senior Backend Engineer   London, UK   \n",
       "\n",
       "         JobDatePost     JobType                 CompanyName  \\\n",
       "0   Thu, 06 Oct 2022   Permanent   HBK Europe Management LLP   \n",
       "1   Thu, 06 Oct 2022   Permanent   HBK Europe Management LLP   \n",
       "2   Thu, 06 Oct 2022   Permanent   HBK Europe Management LLP   \n",
       "3   Thu, 06 Oct 2022   Permanent   HBK Europe Management LLP   \n",
       "4   Thu, 06 Oct 2022   Permanent   HBK Europe Management LLP   \n",
       "\n",
       "                                       JobDescripton  \n",
       "0   Overview HBK is searching for a Python softwa...  \n",
       "1   Overview HBK is searching for a Python softwa...  \n",
       "2   Overview HBK is searching for a Python softwa...  \n",
       "3   Overview HBK is searching for a Python softwa...  \n",
       "4   Overview HBK is searching for a Python softwa...  "
      ]
     },
     "execution_count": 17,
     "metadata": {},
     "output_type": "execute_result"
    }
   ],
   "source": [
    "df = pd.read_csv(\"Pyjobs.csv\")\n",
    "df"
   ]
  },
  {
   "cell_type": "markdown",
   "metadata": {},
   "source": [
    "## Wuzzuf Data Jobs"
   ]
  },
  {
   "cell_type": "code",
   "execution_count": 18,
   "metadata": {},
   "outputs": [
    {
     "data": {
      "text/plain": [
       "' Before starting, I will import from the website data science jobs from the website and few other things like:\\n- Title\\n- Job-Link\\n- Company Name\\n- Location\\n- Posted Date\\n- Job Type\\n- Years of Experience and Skills needed for the job\\n'"
      ]
     },
     "execution_count": 18,
     "metadata": {},
     "output_type": "execute_result"
    }
   ],
   "source": [
    "\"\"\" Before starting, I will import from the website data science jobs from the website and few other things like:\n",
    "- Title\n",
    "- Job-Link\n",
    "- Company Name\n",
    "- Location\n",
    "- Posted Date\n",
    "- Job Type\n",
    "- Years of Experience and Skills needed for the job\n",
    "\"\"\""
   ]
  },
  {
   "cell_type": "code",
   "execution_count": 19,
   "metadata": {},
   "outputs": [],
   "source": [
    "import requests\n",
    "from bs4 import BeautifulSoup\n",
    "import pandas as pd"
   ]
  },
  {
   "cell_type": "code",
   "execution_count": 20,
   "metadata": {},
   "outputs": [
    {
     "data": {
      "text/plain": [
       "<Response [200]>"
      ]
     },
     "execution_count": 20,
     "metadata": {},
     "output_type": "execute_result"
    }
   ],
   "source": [
    "response = requests.get(\"https://wuzzuf.net/search/jobs/?a=navbl&q=data%20science%20jobs\")\n",
    "response"
   ]
  },
  {
   "cell_type": "code",
   "execution_count": 21,
   "metadata": {},
   "outputs": [
    {
     "data": {
      "text/plain": [
       "bs4.BeautifulSoup"
      ]
     },
     "execution_count": 21,
     "metadata": {},
     "output_type": "execute_result"
    }
   ],
   "source": [
    "soupwuzzuf = BeautifulSoup(response.text, \"html.parser\") \n",
    "type(soupwuzzuf)"
   ]
  },
  {
   "cell_type": "code",
   "execution_count": 22,
   "metadata": {},
   "outputs": [
    {
     "data": {
      "text/plain": [
       "[<div class=\"css-1gatmva e1v1l3u10\"><style data-emotion=\"css pkv5jc\">.css-pkv5jc{position:relative;min-height:60px;}</style><div class=\"css-pkv5jc\"><a href=\"https://wuzzuf.net/jobs/careers/Harvest Educational Center-Egypt-111788\" rel=\"noreferrer\" target=\"_blank\"><style data-emotion=\"css 17095x3\">.css-17095x3{position:absolute;right:0;top:0;width:60px;height:60px;object-fit:contain;object-position:center center;}</style></a><style data-emotion=\"css laomuu\">.css-laomuu{padding-right:60px;}</style><div class=\"css-laomuu\"><style data-emotion=\"css m604qf\">.css-m604qf{font-size:16px;font-weight:600;font-style:normal;letter-spacing:-0.4px;line-height:24px;color:#0055D9;margin:0;}</style><h2 class=\"css-m604qf\"><style data-emotion=\"css o171kl\">.css-o171kl{-webkit-text-decoration:none;text-decoration:none;color:inherit;}</style><a class=\"css-o171kl\" href=\"https://wuzzuf.net/jobs/p/FvXGReCeIGyY-Data-Science-Instructor-Harvest-Educational-Center-Dakahlia-Egypt\" rel=\"noreferrer\" target=\"_blank\">Data Science Instructor</a></h2><style data-emotion=\"css d7j1kk\">.css-d7j1kk{margin-bottom:8px;overflow:hidden;text-overflow:ellipsis;}</style><div class=\"css-d7j1kk\"><style data-emotion=\"css 17s97q8\">.css-17s97q8{font-size:12px;font-weight:600;font-style:normal;letter-spacing:-0.27px;line-height:19px;color:#001433;-webkit-text-decoration:none;text-decoration:none;}</style><a class=\"css-17s97q8\" href=\"https://wuzzuf.net/jobs/careers/Harvest Educational Center-Egypt-111788\" rel=\"noreferrer\" target=\"_blank\">Harvest Educational Center  -</a> <style data-emotion=\"css 5wys0k\">.css-5wys0k{font-size:12px;font-weight:600;font-style:normal;letter-spacing:-0.27px;line-height:19px;color:#4D6182;}</style><span class=\"css-5wys0k\">Mansoura, <!-- -->Dakahlia, <!-- -->Egypt </span><style data-emotion=\"css do6t5g\">.css-do6t5g{font-size:12px;font-weight:400;font-style:normal;letter-spacing:-0.27px;line-height:19px;color:#808EA5;}</style><div class=\"css-do6t5g\">14 days<!-- --> ago</div></div></div><style data-emotion=\"css y4udm8\">.css-y4udm8{font-size:13px;font-weight:600;font-style:normal;letter-spacing:-0.3px;line-height:20px;color:#4D6182;}</style><div class=\"css-y4udm8\"><style data-emotion=\"css 1lh32fc\">.css-1lh32fc{display:-webkit-box;display:-webkit-flex;display:-ms-flexbox;display:flex;margin-bottom:8px;-webkit-align-items:center;-webkit-box-align:center;-ms-flex-align:center;align-items:center;-webkit-box-flex-wrap:wrap;-webkit-flex-wrap:wrap;-ms-flex-wrap:wrap;flex-wrap:wrap;}</style><div class=\"css-1lh32fc\"><style data-emotion=\"css n2jc4m\">.css-n2jc4m{display:-webkit-inline-box;display:-webkit-inline-flex;display:-ms-inline-flexbox;display:inline-flex;-webkit-align-items:center;-webkit-box-align:center;-ms-flex-align:center;align-items:center;-webkit-text-decoration:none;text-decoration:none;color:inherit;margin-bottom:4px;}</style><a class=\"css-n2jc4m\" href=\"/a/Freelance-Project-Jobs-in-Egypt\"><style data-emotion=\"css adtuo7\">.css-adtuo7{cursor:pointer;padding:0 4px;border-radius:4px;}</style><style data-emotion=\"css 1ve4b75\">.css-1ve4b75{font-size:12px;font-weight:600;display:-webkit-inline-box;display:-webkit-inline-flex;display:-ms-inline-flexbox;display:inline-flex;-webkit-align-items:center;-webkit-box-align:center;-ms-flex-align:center;align-items:center;min-height:20px;margin-right:4px;border-radius:2px;max-width:196px;white-space:nowrap;overflow:hidden;cursor:default;text-overflow:ellipsis;padding:2px 4px;background-color:#EBEDF0;color:#001433;cursor:pointer;padding:0 4px;border-radius:4px;}</style><span class=\"css-1ve4b75 eoyjyou0\">Freelance / Project</span></a><a href=\"/a/Hybrid-Jobs-in-Egypt\"><style data-emotion=\"css 1i1n6hw\">.css-1i1n6hw{cursor:pointer;padding:0 4px;border-radius:4px;margin-bottom:4px;}</style><style data-emotion=\"css o1vzmt\">.css-o1vzmt{font-size:12px;font-weight:600;display:-webkit-inline-box;display:-webkit-inline-flex;display:-ms-inline-flexbox;display:inline-flex;-webkit-align-items:center;-webkit-box-align:center;-ms-flex-align:center;align-items:center;min-height:20px;margin-right:4px;border-radius:2px;max-width:196px;white-space:nowrap;overflow:hidden;cursor:default;text-overflow:ellipsis;padding:2px 4px;background-color:#EBEDF0;color:#001433;cursor:pointer;padding:0 4px;border-radius:4px;margin-bottom:4px;}</style><span class=\"css-o1vzmt eoyjyou0\">Hybrid</span></a></div><div><a class=\"css-o171kl\" href=\"/a/Experienced-Jobs-in-Egypt\">Experienced</a> <span>· <!-- -->2+ Yrs of Exp</span><a class=\"css-o171kl\" href=\"/a/Training-Instructor-Jobs-in-Egypt\"> <!-- -->· <!-- -->Training/Instructor</a> <!-- -->·<!-- --> <style data-emotion=\"css 5x9pm1\">.css-5x9pm1{-webkit-text-decoration:none;text-decoration:none;color:inherit;max-width:calc(100vw / 2 - 32px);white-space:nowrap;overflow:hidden;text-overflow:ellipsis;display:-webkit-inline-box;display:-webkit-inline-flex;display:-ms-inline-flexbox;display:inline-flex;}</style><a class=\"css-5x9pm1\" href=\"/a/Data-Science-Jobs-in-Egypt\"><span><strong class=\"highlight\">Data</strong><span> </span><strong class=\"highlight\">Science</strong></span></a><a class=\"css-5x9pm1\" href=\"/a/Teaching-Jobs-in-Egypt\"> <!-- -->· <!-- -->Teaching</a></div></div></div></div>,\n",
       " <div class=\"css-1gatmva e1v1l3u10\"><div class=\"css-pkv5jc\"><a href=\"https://wuzzuf.net/jobs/careers/WUZZUF-Egypt-15061\" rel=\"noreferrer\" target=\"_blank\"></a><div class=\"css-laomuu\"><h2 class=\"css-m604qf\"><a class=\"css-o171kl\" href=\"https://wuzzuf.net/jobs/p/B5JeOhq2kb4Q-Data-Analyst-Lead-Manager-WUZZUF-Cairo-Egypt\" rel=\"noreferrer\" target=\"_blank\">Data Analyst Lead / Manager</a></h2><div class=\"css-d7j1kk\"><a class=\"css-17s97q8\" href=\"https://wuzzuf.net/jobs/careers/WUZZUF-Egypt-15061\" rel=\"noreferrer\" target=\"_blank\">WUZZUF -</a> <span class=\"css-5wys0k\">Maadi, <!-- -->Cairo, <!-- -->Egypt </span><style data-emotion=\"css 4c4ojb\">.css-4c4ojb{font-size:12px;font-weight:400;font-style:normal;letter-spacing:-0.27px;line-height:19px;color:#2C9266;}</style><div class=\"css-4c4ojb\">2 days<!-- --> ago</div></div></div><div class=\"css-y4udm8\"><div class=\"css-1lh32fc\"><a class=\"css-n2jc4m\" href=\"/a/Full-Time-Jobs-in-Egypt\"><span class=\"css-1ve4b75 eoyjyou0\">Full Time</span></a><a href=\"/a/Hybrid-Jobs-in-Egypt\"><span class=\"css-o1vzmt eoyjyou0\">Hybrid</span></a></div><div><a class=\"css-o171kl\" href=\"/a/Manager-Jobs-in-Egypt\">Manager</a> <span>· <!-- -->7 - 15 Yrs of Exp</span><a class=\"css-o171kl\" href=\"/a/IT-Software-Development-Jobs-in-Egypt\"> <!-- -->· <!-- -->IT/Software Development</a><a class=\"css-o171kl\" href=\"/a/Analyst-Research-Jobs-in-Egypt\"> <!-- -->· <!-- -->Analyst/Research</a><a class=\"css-o171kl\" href=\"/a/Engineering-Telecom-Technology-Jobs-in-Egypt\"> <!-- -->· <!-- -->Engineering - Telecom/Technology</a><a class=\"css-5x9pm1\" href=\"/a/Analysis-Jobs-in-Egypt\"> <!-- -->· <!-- -->Analysis</a><a class=\"css-5x9pm1\" href=\"/a/Business-Jobs-in-Egypt\"> <!-- -->· <!-- -->business</a><a class=\"css-5x9pm1\" href=\"/a/Computer-Engineering-Jobs-in-Egypt\"> <!-- -->· <!-- -->Computer Engineering</a> <!-- -->·<!-- --> <a class=\"css-5x9pm1\" href=\"/a/Computer-Science-Jobs-in-Egypt\"><span><span>Computer </span><strong class=\"highlight\">Science</strong></span></a> <!-- -->·<!-- --> <a class=\"css-5x9pm1\" href=\"/a/Data-Analysis-Jobs-in-Egypt\"><span><strong class=\"highlight\">Data</strong><span> Analysis</span></span></a><a class=\"css-5x9pm1\" href=\"/a/Engineering-Jobs-in-Egypt\"> <!-- -->· <!-- -->Engineering</a><a class=\"css-5x9pm1\" href=\"/a/Microsoft-Excel-Jobs-in-Egypt\"> <!-- -->· <!-- -->Microsoft Excel</a></div></div></div></div>,\n",
       " <div class=\"css-1gatmva e1v1l3u10\"><div class=\"css-pkv5jc\"><a href=\"https://wuzzuf.net/jobs/careers/Nile-University-Egypt-30674\" rel=\"noreferrer\" target=\"_blank\"></a><div class=\"css-laomuu\"><h2 class=\"css-m604qf\"><a class=\"css-o171kl\" href=\"https://wuzzuf.net/jobs/p/SCVwIoenLd2x-PG-Data-Analyst-Nile-University-Giza-Egypt\" rel=\"noreferrer\" target=\"_blank\">PG Data Analyst</a></h2><div class=\"css-d7j1kk\"><a class=\"css-17s97q8\" href=\"https://wuzzuf.net/jobs/careers/Nile-University-Egypt-30674\" rel=\"noreferrer\" target=\"_blank\">Nile University -</a> <span class=\"css-5wys0k\">Sheikh Zayed, <!-- -->Giza, <!-- -->Egypt </span><div class=\"css-do6t5g\">9 days<!-- --> ago</div></div></div><div class=\"css-y4udm8\"><div class=\"css-1lh32fc\"><a class=\"css-n2jc4m\" href=\"/a/Full-Time-Jobs-in-Egypt\"><span class=\"css-1ve4b75 eoyjyou0\">Full Time</span></a><a href=\"/a/On-Site-Jobs-in-Egypt\"><span class=\"css-o1vzmt eoyjyou0\">On-site</span></a></div><div><a class=\"css-o171kl\" href=\"/a/Experienced-Jobs-in-Egypt\">Experienced</a> <span>· <!-- -->2 - 4 Yrs of Exp</span><a class=\"css-o171kl\" href=\"/a/Analyst-Research-Jobs-in-Egypt\"> <!-- -->· <!-- -->Analyst/Research</a><a class=\"css-5x9pm1\" href=\"/a/Analysis-Jobs-in-Egypt\"> <!-- -->· <!-- -->Analysis</a><a class=\"css-5x9pm1\" href=\"/a/Analytical-Jobs-in-Egypt\"> <!-- -->· <!-- -->analytical</a><a class=\"css-5x9pm1\" href=\"/a/BI-Jobs-in-Egypt\"> <!-- -->· <!-- -->BI</a><a class=\"css-5x9pm1\" href=\"/a/Business-Jobs-in-Egypt\"> <!-- -->· <!-- -->business</a> <!-- -->·<!-- --> <a class=\"css-5x9pm1\" href=\"/a/Computer-Science-Jobs-in-Egypt\"><span><span>Computer </span><strong class=\"highlight\">Science</strong></span></a> <!-- -->·<!-- --> <a class=\"css-5x9pm1\" href=\"/a/Data-Jobs-in-Egypt\"><span><strong class=\"highlight\">Data</strong></span></a> <!-- -->·<!-- --> <a class=\"css-5x9pm1\" href=\"/a/Data-Analysis-Jobs-in-Egypt\"><span><strong class=\"highlight\">Data</strong><span> Analysis</span></span></a><a class=\"css-5x9pm1\" href=\"/a/English-Jobs-in-Egypt\"> <!-- -->· <!-- -->English</a><a class=\"css-5x9pm1\" href=\"/a/Power-BI-Jobs-in-Egypt\"> <!-- -->· <!-- -->Power BI</a></div></div></div></div>,\n",
       " <div class=\"css-1gatmva e1v1l3u10\"><div class=\"css-pkv5jc\"><a href=\"https://wuzzuf.net/jobs/careers/United elite company-Egypt-98926\" rel=\"noreferrer\" target=\"_blank\"></a><div class=\"css-laomuu\"><h2 class=\"css-m604qf\"><a class=\"css-o171kl\" href=\"https://wuzzuf.net/jobs/p/QyS46Vr1VCX2-Data-Analyst-United-Elite-Company-Al-Ain-United-Arab-Emirates\" rel=\"noreferrer\" target=\"_blank\">Data Analyst</a></h2><div class=\"css-d7j1kk\"><a class=\"css-17s97q8\" href=\"https://wuzzuf.net/jobs/careers/United elite company-Egypt-98926\" rel=\"noreferrer\" target=\"_blank\">United Elite Company     -</a> <span class=\"css-5wys0k\">Al Ain, <!-- -->United Arab Emirates </span><div class=\"css-do6t5g\">10 days<!-- --> ago</div></div></div><div class=\"css-y4udm8\"><div class=\"css-1lh32fc\"><a class=\"css-n2jc4m\" href=\"/a/Full-Time-Jobs-in-United-Arab-Emirates\"><span class=\"css-1ve4b75 eoyjyou0\">Full Time</span></a><a href=\"/a/On-Site-Jobs-in-United-Arab-Emirates\"><span class=\"css-o1vzmt eoyjyou0\">On-site</span></a></div><div><a class=\"css-o171kl\" href=\"/a/Entry-Level-Jobs-in-United-Arab-Emirates\">Entry Level</a> <span>· <!-- -->1 - 3 Yrs of Exp</span><a class=\"css-o171kl\" href=\"/a/Banking-Jobs-in-United-Arab-Emirates\"> <!-- -->· <!-- -->Banking</a><a class=\"css-o171kl\" href=\"/a/Business-Jobs-in-United-Arab-Emirates\"> <!-- -->· <!-- -->Business Development</a><a class=\"css-o171kl\" href=\"/a/Customer-Service-Jobs-in-United-Arab-Emirates\"> <!-- -->· <!-- -->Customer Service/Support</a><a class=\"css-5x9pm1\" href=\"/a/Information-Technology-IT-Jobs-in-United-Arab-Emirates\"> <!-- -->· <!-- -->Information Technology (IT)</a><a class=\"css-5x9pm1\" href=\"/a/Business-Jobs-in-United-Arab-Emirates\"> <!-- -->· <!-- -->business</a> <!-- -->·<!-- --> <a class=\"css-5x9pm1\" href=\"/a/Computer-Science-Jobs-in-United-Arab-Emirates\"><span><span>Computer </span><strong class=\"highlight\">Science</strong></span></a> <!-- -->·<!-- --> <a class=\"css-5x9pm1\" href=\"/a/Data-Analyst-Jobs-in-United-Arab-Emirates\"><span><strong class=\"highlight\">Data</strong><span> Analyst</span></span></a><a class=\"css-5x9pm1\" href=\"/a/Statistics-Jobs-in-United-Arab-Emirates\"> <!-- -->· <!-- -->Statistics</a></div></div></div></div>,\n",
       " <div class=\"css-1gatmva e1v1l3u10\"><div class=\"css-pkv5jc\"><a href=\"https://wuzzuf.net/jobs/careers/waffarha-com-Egypt-3723\" rel=\"noreferrer\" target=\"_blank\"></a><div class=\"css-laomuu\"><h2 class=\"css-m604qf\"><a class=\"css-o171kl\" href=\"https://wuzzuf.net/jobs/p/A6lmv3kBqvXu-Data-Analyst-waffarha-com-Cairo-Egypt\" rel=\"noreferrer\" target=\"_blank\">Data Analyst</a></h2><div class=\"css-d7j1kk\"><a class=\"css-17s97q8\" href=\"https://wuzzuf.net/jobs/careers/waffarha-com-Egypt-3723\" rel=\"noreferrer\" target=\"_blank\">waffarha.com -</a> <span class=\"css-5wys0k\">Sheraton, <!-- -->Cairo, <!-- -->Egypt </span><div class=\"css-do6t5g\">17 days<!-- --> ago</div></div></div><div class=\"css-y4udm8\"><div class=\"css-1lh32fc\"><a class=\"css-n2jc4m\" href=\"/a/Full-Time-Jobs-in-Egypt\"><span class=\"css-1ve4b75 eoyjyou0\">Full Time</span></a><a href=\"/a/On-Site-Jobs-in-Egypt\"><span class=\"css-o1vzmt eoyjyou0\">On-site</span></a></div><div><a class=\"css-o171kl\" href=\"/a/Experienced-Jobs-in-Egypt\">Experienced</a> <span>· <!-- -->2 - 3 Yrs of Exp</span><a class=\"css-o171kl\" href=\"/a/Accounting-Finance-Jobs-in-Egypt\"> <!-- -->· <!-- -->Accounting/Finance</a><a class=\"css-o171kl\" href=\"/a/IT-Software-Development-Jobs-in-Egypt\"> <!-- -->· <!-- -->IT/Software Development</a><a class=\"css-o171kl\" href=\"/a/Analyst-Research-Jobs-in-Egypt\"> <!-- -->· <!-- -->Analyst/Research</a><a class=\"css-5x9pm1\" href=\"/a/Analysis-Jobs-in-Egypt\"> <!-- -->· <!-- -->Analysis</a> <!-- -->·<!-- --> <a class=\"css-5x9pm1\" href=\"/a/Computer-Science-Jobs-in-Egypt\"><span><span>Computer </span><strong class=\"highlight\">Science</strong></span></a><a class=\"css-5x9pm1\" href=\"/a/Python-Jobs-in-Egypt\"> <!-- -->· <!-- -->Python</a><a class=\"css-5x9pm1\" href=\"/a/SQL-Jobs-in-Egypt\"> <!-- -->· <!-- -->SQL</a><a class=\"css-5x9pm1\" href=\"/a/Tableau-Jobs-in-Egypt\"> <!-- -->· <!-- -->Tableau</a><a class=\"css-5x9pm1\" href=\"/a/Finance-Analysis-Jobs-in-Egypt\"> <!-- -->· <!-- -->Finance Analysis</a><a class=\"css-5x9pm1\" href=\"/a/Software-Analysis-Jobs-in-Egypt\"> <!-- -->· <!-- -->Software Analysis</a></div></div></div></div>,\n",
       " <div class=\"css-1gatmva e1v1l3u10\"><div class=\"css-pkv5jc\"><a href=\"https://wuzzuf.net/jobs/careers/Al-Ahly-Medical-Company-Egypt-7459\" rel=\"noreferrer\" target=\"_blank\"></a><div class=\"css-laomuu\"><h2 class=\"css-m604qf\"><a class=\"css-o171kl\" href=\"https://wuzzuf.net/jobs/p/BLrUSlxEbEKm-Senior-Data-Analyst-Al-Ahly-Medical-Company-Giza-Egypt\" rel=\"noreferrer\" target=\"_blank\">Senior Data Analyst</a></h2><div class=\"css-d7j1kk\"><a class=\"css-17s97q8\" href=\"https://wuzzuf.net/jobs/careers/Al-Ahly-Medical-Company-Egypt-7459\" rel=\"noreferrer\" target=\"_blank\">Al Ahly Medical Company -</a> <span class=\"css-5wys0k\">Giza, <!-- -->Giza, <!-- -->Egypt </span><div class=\"css-do6t5g\">25 days<!-- --> ago</div></div></div><div class=\"css-y4udm8\"><div class=\"css-1lh32fc\"><a class=\"css-n2jc4m\" href=\"/a/Full-Time-Jobs-in-Egypt\"><span class=\"css-1ve4b75 eoyjyou0\">Full Time</span></a><a href=\"/a/On-Site-Jobs-in-Egypt\"><span class=\"css-o1vzmt eoyjyou0\">On-site</span></a></div><div><a class=\"css-o171kl\" href=\"/a/Experienced-Jobs-in-Egypt\">Experienced</a> <span>· <!-- -->3 - 5 Yrs of Exp</span><a class=\"css-o171kl\" href=\"/a/Analyst-Research-Jobs-in-Egypt\"> <!-- -->· <!-- -->Analyst/Research</a><a class=\"css-5x9pm1\" href=\"/a/Analysis-Jobs-in-Egypt\"> <!-- -->· <!-- -->Analysis</a><a class=\"css-5x9pm1\" href=\"/a/Analytical-Jobs-in-Egypt\"> <!-- -->· <!-- -->analytical</a><a class=\"css-5x9pm1\" href=\"/a/Analytical-Thinking-Jobs-in-Egypt\"> <!-- -->· <!-- -->Analytical Thinking</a> <!-- -->·<!-- --> <a class=\"css-5x9pm1\" href=\"/a/Computer-Science-Jobs-in-Egypt\"><span><span>Computer </span><strong class=\"highlight\">Science</strong></span></a> <!-- -->·<!-- --> <a class=\"css-5x9pm1\" href=\"/a/Data-Analysis-Jobs-in-Egypt\"><span><strong class=\"highlight\">Data</strong><span> Analysis</span></span></a><a class=\"css-5x9pm1\" href=\"/a/Information-Technology-IT-Jobs-in-Egypt\"> <!-- -->· <!-- -->Information Technology (IT)</a><a class=\"css-5x9pm1\" href=\"/a/Excel-Jobs-in-Egypt\"> <!-- -->· <!-- -->excel</a></div></div></div></div>,\n",
       " <div class=\"css-1gatmva e1v1l3u10\"><div class=\"css-pkv5jc\"><a href=\"https://wuzzuf.net/jobs/careers/-82301\" rel=\"noreferrer\" target=\"_blank\"></a><div class=\"css-laomuu\"><h2 class=\"css-m604qf\"><a class=\"css-o171kl\" href=\"https://wuzzuf.net/jobs/p/jrIWIZdIbmGA-economics-and-political-science-researcher-Experienced-الناجح-للخدمات-والاستشارات-التعليمية-والطلابية-Cairo-Egypt\" rel=\"noreferrer\" target=\"_blank\">economics and political science researcher (Experienced)</a></h2><div class=\"css-d7j1kk\"><a class=\"css-17s97q8\" href=\"https://wuzzuf.net/jobs/careers/-82301\" rel=\"noreferrer\" target=\"_blank\">الناجح للخدمات والاستشارات التعليمية والطلابية -</a> <span class=\"css-5wys0k\">Mokattam, <!-- -->Cairo, <!-- -->Egypt </span><div class=\"css-do6t5g\">1 month<!-- --> ago</div></div></div><div class=\"css-y4udm8\"><div class=\"css-1lh32fc\"><a class=\"css-n2jc4m\" href=\"/a/Full-Time-Jobs-in-Egypt\"><span class=\"css-1ve4b75 eoyjyou0\">Full Time</span></a><a href=\"/a/On-Site-Jobs-in-Egypt\"><span class=\"css-o1vzmt eoyjyou0\">On-site</span></a></div><div><a class=\"css-o171kl\" href=\"/a/Experienced-Jobs-in-Egypt\">Experienced</a> <span>· <!-- -->2 - 20 Yrs of Exp</span><a class=\"css-o171kl\" href=\"/a/Editorial-Writing-Jobs-in-Egypt\"> <!-- -->· <!-- -->Writing/Editorial</a><a class=\"css-o171kl\" href=\"/a/Analyst-Research-Jobs-in-Egypt\"> <!-- -->· <!-- -->Analyst/Research</a><a class=\"css-o171kl\" href=\"/a/Education-Teaching-Jobs-in-Egypt\"> <!-- -->· <!-- -->Education/Teaching</a><a class=\"css-5x9pm1\" href=\"/a/Analyst-Jobs-in-Egypt\"> <!-- -->· <!-- -->Analyst</a><a class=\"css-5x9pm1\" href=\"/a/Research-Education-Jobs-in-Egypt\"> <!-- -->· <!-- -->Research Education</a><a class=\"css-5x9pm1\" href=\"/a/Teaching-Jobs-in-Egypt\"> <!-- -->· <!-- -->Teaching</a><a class=\"css-5x9pm1\" href=\"/a/Training-Jobs-in-Egypt\"> <!-- -->· <!-- -->Training</a><a class=\"css-5x9pm1\" href=\"/a/Instructor-Jobs-in-Egypt\"> <!-- -->· <!-- -->Instructor</a><a class=\"css-5x9pm1\" href=\"/a/Research-Jobs-in-Egypt\"> <!-- -->· <!-- -->Research</a><a class=\"css-5x9pm1\" href=\"/a/Research-Analysis-Jobs-in-Egypt\"> <!-- -->· <!-- -->Research Analysis</a></div></div></div></div>,\n",
       " <div class=\"css-1gatmva e1v1l3u10\"><div class=\"css-pkv5jc\"><a href=\"https://wuzzuf.net/jobs/careers/Mobility-Pro-DMCC-Egypt-28357\" rel=\"noreferrer\" target=\"_blank\"></a><div class=\"css-laomuu\"><h2 class=\"css-m604qf\"><a class=\"css-o171kl\" href=\"https://wuzzuf.net/jobs/p/MSKFu1ytuKG0-Data-Analyst-Mobility-Pro-DMCC-Alexandria-Egypt\" rel=\"noreferrer\" target=\"_blank\">Data Analyst</a></h2><div class=\"css-d7j1kk\"><a class=\"css-17s97q8\" href=\"https://wuzzuf.net/jobs/careers/Mobility-Pro-DMCC-Egypt-28357\" rel=\"noreferrer\" target=\"_blank\">Mobility Pro DMCC -</a> <span class=\"css-5wys0k\">Azarita, <!-- -->Alexandria, <!-- -->Egypt </span><div class=\"css-do6t5g\">1 month<!-- --> ago</div></div></div><div class=\"css-y4udm8\"><div class=\"css-1lh32fc\"><a class=\"css-n2jc4m\" href=\"/a/Full-Time-Jobs-in-Egypt\"><span class=\"css-1ve4b75 eoyjyou0\">Full Time</span></a><a href=\"/a/On-Site-Jobs-in-Egypt\"><span class=\"css-o1vzmt eoyjyou0\">On-site</span></a></div><div><a class=\"css-o171kl\" href=\"/a/Experienced-Jobs-in-Egypt\">Experienced</a> <span>· <!-- -->2 - 5 Yrs of Exp</span><a class=\"css-o171kl\" href=\"/a/IT-Software-Development-Jobs-in-Egypt\"> <!-- -->· <!-- -->IT/Software Development</a><a class=\"css-o171kl\" href=\"/a/Analyst-Research-Jobs-in-Egypt\"> <!-- -->· <!-- -->Analyst/Research</a> <!-- -->·<!-- --> <a class=\"css-5x9pm1\" href=\"/a/Data-Analysis-Jobs-in-Egypt\"><span><strong class=\"highlight\">Data</strong><span> Analysis</span></span></a> <!-- -->·<!-- --> <a class=\"css-5x9pm1\" href=\"/a/Data-Science-Jobs-in-Egypt\"><span><strong class=\"highlight\">Data</strong><span> </span><strong class=\"highlight\">Science</strong></span></a><a class=\"css-5x9pm1\" href=\"/a/Microsoft-Excel-Jobs-in-Egypt\"> <!-- -->· <!-- -->Microsoft Excel</a><a class=\"css-5x9pm1\" href=\"/a/Power-BI-Jobs-in-Egypt\"> <!-- -->· <!-- -->Power BI</a><a class=\"css-5x9pm1\" href=\"/a/SQL-Jobs-in-Egypt\"> <!-- -->· <!-- -->SQL</a><a class=\"css-5x9pm1\" href=\"/a/Python-Jobs-in-Egypt\"> <!-- -->· <!-- -->Python</a><a class=\"css-5x9pm1\" href=\"/a/Statistics-Jobs-in-Egypt\"> <!-- -->· <!-- -->Statistics</a><a class=\"css-5x9pm1\" href=\"/a/Machine-Learning-Jobs-in-Egypt\"> <!-- -->· <!-- -->Machine Learning</a></div></div></div></div>,\n",
       " <div class=\"css-1gatmva e1v1l3u10\"><div class=\"css-pkv5jc\"><a href=\"https://wuzzuf.net/jobs/careers/Arma-Egypt-73932\" rel=\"noreferrer\" target=\"_blank\"></a><div class=\"css-laomuu\"><h2 class=\"css-m604qf\"><a class=\"css-o171kl\" href=\"https://wuzzuf.net/jobs/p/aKyVcr2YeALn-Master-Data-Head-Arma-HSA-Cairo-Egypt\" rel=\"noreferrer\" target=\"_blank\">Master Data Head</a></h2><div class=\"css-d7j1kk\"><a class=\"css-17s97q8\" href=\"https://wuzzuf.net/jobs/careers/Arma-Egypt-73932\" rel=\"noreferrer\" target=\"_blank\">Arma-HSA -</a> <span class=\"css-5wys0k\">New Cairo, <!-- -->Cairo, <!-- -->Egypt </span><div class=\"css-do6t5g\">1 month<!-- --> ago</div></div></div><div class=\"css-y4udm8\"><div class=\"css-1lh32fc\"><a class=\"css-n2jc4m\" href=\"/a/Full-Time-Jobs-in-Egypt\"><span class=\"css-1ve4b75 eoyjyou0\">Full Time</span></a><a href=\"/a/On-Site-Jobs-in-Egypt\"><span class=\"css-o1vzmt eoyjyou0\">On-site</span></a></div><div><a class=\"css-o171kl\" href=\"/a/Experienced-Jobs-in-Egypt\">Experienced</a> <span>· <!-- -->6 - 8 Yrs of Exp</span><a class=\"css-o171kl\" href=\"/a/IT-Software-Development-Jobs-in-Egypt\"> <!-- -->· <!-- -->IT/Software Development</a><a class=\"css-o171kl\" href=\"/a/Analyst-Research-Jobs-in-Egypt\"> <!-- -->· <!-- -->Analyst/Research</a> <!-- -->·<!-- --> <a class=\"css-5x9pm1\" href=\"/a/Computer-Science-Jobs-in-Egypt\"><span><span>Computer </span><strong class=\"highlight\">Science</strong></span></a> <!-- -->·<!-- --> <a class=\"css-5x9pm1\" href=\"/a/Data-Jobs-in-Egypt\"><span><strong class=\"highlight\">Data</strong></span></a> <!-- -->·<!-- --> <a class=\"css-5x9pm1\" href=\"/a/Data-Management-Jobs-in-Egypt\"><span><strong class=\"highlight\">Data</strong><span> Management</span></span></a><a class=\"css-5x9pm1\" href=\"/a/Management-Jobs-in-Egypt\"> <!-- -->· <!-- -->Management</a> <!-- -->·<!-- --> <a class=\"css-5x9pm1\" href=\"/a/Master-Data-Jobs-in-Egypt\"><span><span>Master </span><strong class=\"highlight\">Data</strong></span></a><a class=\"css-5x9pm1\" href=\"/a/SAP-Jobs-in-Egypt\"> <!-- -->· <!-- -->SAP</a><a class=\"css-5x9pm1\" href=\"/a/Microsoft-Office-Jobs-in-Egypt\"> <!-- -->· <!-- -->Microsoft Office</a></div></div></div></div>,\n",
       " <div class=\"css-1gatmva e1v1l3u10\"><div class=\"css-pkv5jc\"><a rel=\"noreferrer\" target=\"_blank\"></a><div class=\"css-laomuu\"><h2 class=\"css-m604qf\"><a class=\"css-o171kl\" href=\"https://wuzzuf.net/jobs/p/gwMXCIAsEVDU-Data-Analyst-Cairo-Egypt\" rel=\"noreferrer\" target=\"_blank\">Data Analyst</a></h2><div class=\"css-d7j1kk\"><a class=\"css-17s97q8\" rel=\"noreferrer\" target=\"_blank\">Confidential -</a> <span class=\"css-5wys0k\">Heliopolis, <!-- -->Cairo, <!-- -->Egypt </span><div class=\"css-4c4ojb\">5 hours<!-- --> ago</div></div></div><div class=\"css-y4udm8\"><div class=\"css-1lh32fc\"><a class=\"css-n2jc4m\" href=\"/a/Full-Time-Jobs-in-Egypt\"><span class=\"css-1ve4b75 eoyjyou0\">Full Time</span></a><a href=\"/a/On-Site-Jobs-in-Egypt\"><span class=\"css-o1vzmt eoyjyou0\">On-site</span></a></div><div><a class=\"css-o171kl\" href=\"/a/Experienced-Jobs-in-Egypt\">Experienced</a> <span>· <!-- -->3 - 5 Yrs of Exp</span><a class=\"css-o171kl\" href=\"/a/IT-Software-Development-Jobs-in-Egypt\"> <!-- -->· <!-- -->IT/Software Development</a><a class=\"css-o171kl\" href=\"/a/Analyst-Research-Jobs-in-Egypt\"> <!-- -->· <!-- -->Analyst/Research</a><a class=\"css-5x9pm1\" href=\"/a/Analysis-Jobs-in-Egypt\"> <!-- -->· <!-- -->Analysis</a> <!-- -->·<!-- --> <a class=\"css-5x9pm1\" href=\"/a/Data-Analysis-Jobs-in-Egypt\"><span><strong class=\"highlight\">Data</strong><span> Analysis</span></span></a><a class=\"css-5x9pm1\" href=\"/a/Statistics-Jobs-in-Egypt\"> <!-- -->· <!-- -->Statistics</a><a class=\"css-5x9pm1\" href=\"/a/Business-Jobs-in-Egypt\"> <!-- -->· <!-- -->business</a></div></div></div></div>,\n",
       " <div class=\"css-1gatmva e1v1l3u10\"><div class=\"css-pkv5jc\"><a href=\"https://wuzzuf.net/jobs/careers/Koning-Food-Industries-Egypt-110118\" rel=\"noreferrer\" target=\"_blank\"></a><div class=\"css-laomuu\"><h2 class=\"css-m604qf\"><a class=\"css-o171kl\" href=\"https://wuzzuf.net/jobs/p/uUVolSnUtyNh-Sales-Data-Analyst-Koning-Food-Industries-Cairo-Egypt\" rel=\"noreferrer\" target=\"_blank\">Sales Data Analyst</a></h2><div class=\"css-d7j1kk\"><a class=\"css-17s97q8\" href=\"https://wuzzuf.net/jobs/careers/Koning-Food-Industries-Egypt-110118\" rel=\"noreferrer\" target=\"_blank\">Koning Food Industries -</a> <span class=\"css-5wys0k\">Cairo, <!-- -->Egypt </span><div class=\"css-4c4ojb\">7 days<!-- --> ago</div></div></div><div class=\"css-y4udm8\"><div class=\"css-1lh32fc\"><a class=\"css-n2jc4m\" href=\"/a/Full-Time-Jobs-in-Egypt\"><span class=\"css-1ve4b75 eoyjyou0\">Full Time</span></a><a href=\"/a/On-Site-Jobs-in-Egypt\"><span class=\"css-o1vzmt eoyjyou0\">On-site</span></a></div><div><a class=\"css-o171kl\" href=\"/a/Experienced-Jobs-in-Egypt\">Experienced</a> <span>· <!-- -->5 - 10 Yrs of Exp</span><a class=\"css-o171kl\" href=\"/a/Analyst-Research-Jobs-in-Egypt\"> <!-- -->· <!-- -->Analyst/Research</a><a class=\"css-o171kl\" href=\"/a/Sales-Jobs-in-Egypt\"> <!-- -->· <!-- -->Sales/Retail</a><a class=\"css-5x9pm1\" href=\"/a/Analysis-Jobs-in-Egypt\"> <!-- -->· <!-- -->Analysis</a><a class=\"css-5x9pm1\" href=\"/a/Analytical-Jobs-in-Egypt\"> <!-- -->· <!-- -->analytical</a> <!-- -->·<!-- --> <a class=\"css-5x9pm1\" href=\"/a/Data-Analysis-Jobs-in-Egypt\"><span><strong class=\"highlight\">Data</strong><span> Analysis</span></span></a><a class=\"css-5x9pm1\" href=\"/a/Statistics-Jobs-in-Egypt\"> <!-- -->· <!-- -->Statistics</a><a class=\"css-5x9pm1\" href=\"/a/Sales-Jobs-in-Egypt\"> <!-- -->· <!-- -->Sales</a> <!-- -->·<!-- --> <a class=\"css-5x9pm1\" href=\"/a/Data-Analyst-Jobs-in-Egypt\"><span><strong class=\"highlight\">Data</strong><span> Analyst</span></span></a><a class=\"css-5x9pm1\" href=\"/a/Business-Jobs-in-Egypt\"> <!-- -->· <!-- -->business</a><a class=\"css-5x9pm1\" href=\"/a/Analyst-Jobs-in-Egypt\"> <!-- -->· <!-- -->Analyst</a></div></div></div></div>,\n",
       " <div class=\"css-1gatmva e1v1l3u10\"><div class=\"css-pkv5jc\"><a href=\"https://wuzzuf.net/jobs/careers/Informatique-Egypt-6845\" rel=\"noreferrer\" target=\"_blank\"></a><div class=\"css-laomuu\"><h2 class=\"css-m604qf\"><a class=\"css-o171kl\" href=\"https://wuzzuf.net/jobs/p/WOMMMP4kDzB9-Senior-Java-Developer-Informatique-Education-Cairo-Egypt\" rel=\"noreferrer\" target=\"_blank\">Senior Java Developer</a></h2><div class=\"css-d7j1kk\"><a class=\"css-17s97q8\" href=\"https://wuzzuf.net/jobs/careers/Informatique-Egypt-6845\" rel=\"noreferrer\" target=\"_blank\">Informatique Education -</a> <span class=\"css-5wys0k\">Cairo, <!-- -->Egypt </span><div class=\"css-4c4ojb\">7 days<!-- --> ago</div></div></div><div class=\"css-y4udm8\"><div class=\"css-1lh32fc\"><a class=\"css-n2jc4m\" href=\"/a/Full-Time-Jobs-in-Egypt\"><span class=\"css-1ve4b75 eoyjyou0\">Full Time</span></a><a href=\"/a/Hybrid-Jobs-in-Egypt\"><span class=\"css-o1vzmt eoyjyou0\">Hybrid</span></a></div><div><a class=\"css-o171kl\" href=\"/a/Experienced-Jobs-in-Egypt\">Experienced</a> <span>· <!-- -->5 - 8 Yrs of Exp</span><a class=\"css-o171kl\" href=\"/a/IT-Software-Development-Jobs-in-Egypt\"> <!-- -->· <!-- -->IT/Software Development</a><a class=\"css-o171kl\" href=\"/a/Engineering-Telecom-Technology-Jobs-in-Egypt\"> <!-- -->· <!-- -->Engineering - Telecom/Technology</a><a class=\"css-5x9pm1\" href=\"/a/Computer-Engineering-Jobs-in-Egypt\"> <!-- -->· <!-- -->Computer Engineering</a><a class=\"css-5x9pm1\" href=\"/a/Information-Technology-IT-Jobs-in-Egypt\"> <!-- -->· <!-- -->Information Technology (IT)</a><a class=\"css-5x9pm1\" href=\"/a/Engineering-Jobs-in-Egypt\"> <!-- -->· <!-- -->Engineering</a><a class=\"css-5x9pm1\" href=\"/a/Software-Engineering-Jobs-in-Egypt\"> <!-- -->· <!-- -->Software Engineering</a> <!-- -->·<!-- --> <a class=\"css-5x9pm1\" href=\"/a/Computer-Science-Jobs-in-Egypt\"><span><span>Computer </span><strong class=\"highlight\">Science</strong></span></a><a class=\"css-5x9pm1\" href=\"/a/Software-Development-Jobs-in-Egypt\"> <!-- -->· <!-- -->Software Development</a><a class=\"css-5x9pm1\" href=\"/a/Java-Jobs-in-Egypt\"> <!-- -->· <!-- -->Java</a><a class=\"css-5x9pm1\" href=\"/a/Spring-Jobs-in-Egypt\"> <!-- -->· <!-- -->Spring</a></div></div></div></div>,\n",
       " <div class=\"css-1gatmva e1v1l3u10\"><div class=\"css-pkv5jc\"><a href=\"https://wuzzuf.net/jobs/careers/Virtual Vision (V2)-Saudi Arabia-118418\" rel=\"noreferrer\" target=\"_blank\"></a><div class=\"css-laomuu\"><h2 class=\"css-m604qf\"><a class=\"css-o171kl\" href=\"https://wuzzuf.net/jobs/p/ItjFFbelfxoW-Network-Security-Specialist-Virtual-Vision-V2-Cairo-Egypt\" rel=\"noreferrer\" target=\"_blank\">Network Security Specialist</a></h2><div class=\"css-d7j1kk\"><a class=\"css-17s97q8\" href=\"https://wuzzuf.net/jobs/careers/Virtual Vision (V2)-Saudi Arabia-118418\" rel=\"noreferrer\" target=\"_blank\">Virtual Vision (V2) -</a> <span class=\"css-5wys0k\">Nasr City, <!-- -->Cairo, <!-- -->Egypt </span><div class=\"css-4c4ojb\">4 days<!-- --> ago</div></div></div><div class=\"css-y4udm8\"><div class=\"css-1lh32fc\"><a class=\"css-n2jc4m\" href=\"/a/Full-Time-Jobs-in-Egypt\"><span class=\"css-1ve4b75 eoyjyou0\">Full Time</span></a><a href=\"/a/On-Site-Jobs-in-Egypt\"><span class=\"css-o1vzmt eoyjyou0\">On-site</span></a></div><div><a class=\"css-o171kl\" href=\"/a/Experienced-Jobs-in-Egypt\">Experienced</a> <span>· <!-- -->5+ Yrs of Exp</span><a class=\"css-o171kl\" href=\"/a/IT-Software-Development-Jobs-in-Egypt\"> <!-- -->· <!-- -->IT/Software Development</a><a class=\"css-5x9pm1\" href=\"/a/Firewalls-Jobs-in-Egypt\"> <!-- -->· <!-- -->firewalls</a><a class=\"css-5x9pm1\" href=\"/a/DLP-Jobs-in-Egypt\"> <!-- -->· <!-- -->DLP</a><a class=\"css-5x9pm1\" href=\"/a/Security-Jobs-in-Egypt\"> <!-- -->· <!-- -->Security</a><a class=\"css-5x9pm1\" href=\"/a/Sophos-Firewall-Jobs-in-Egypt\"> <!-- -->· <!-- -->Sophos Firewall</a><a class=\"css-5x9pm1\" href=\"/a/Forcepoint-Jobs-in-Egypt\"> <!-- -->· <!-- -->Forcepoint</a><a class=\"css-5x9pm1\" href=\"/a/Checkpoint-Jobs-in-Egypt\"> <!-- -->· <!-- -->Checkpoint</a><a class=\"css-5x9pm1\" href=\"/a/Ivanti-Jobs-in-Egypt\"> <!-- -->· <!-- -->Ivanti</a><a class=\"css-5x9pm1\" href=\"/a/Netowrk-Security-Jobs-in-Egypt\"> <!-- -->· <!-- -->Netowrk Security</a><a class=\"css-5x9pm1\" href=\"/a/VPN-Jobs-in-Egypt\"> <!-- -->· <!-- -->VPN</a></div></div></div></div>,\n",
       " <div class=\"css-1gatmva e1v1l3u10\"><div class=\"css-pkv5jc\"><a href=\"https://wuzzuf.net/jobs/careers/Etisalat-Misr-Egypt-4219\" rel=\"noreferrer\" target=\"_blank\"></a><div class=\"css-laomuu\"><h2 class=\"css-m604qf\"><a class=\"css-o171kl\" href=\"https://wuzzuf.net/jobs/p/auo58aagyYFI-E-mail-Chat-Account-Etisalat-UAE-B2-English-speakers-Maadi-Etisalat-Egypt-Cairo-Egypt\" rel=\"noreferrer\" target=\"_blank\">E-mail &amp; Chat Account (Etisalat UAE) , B2 English speakers, Maadi</a></h2><div class=\"css-d7j1kk\"><a class=\"css-17s97q8\" href=\"https://wuzzuf.net/jobs/careers/Etisalat-Misr-Egypt-4219\" rel=\"noreferrer\" target=\"_blank\">Etisalat Egypt -</a> <span class=\"css-5wys0k\">Maadi, <!-- -->Cairo, <!-- -->Egypt </span><div class=\"css-4c4ojb\">2 days<!-- --> ago</div></div></div><div class=\"css-y4udm8\"><div class=\"css-1lh32fc\"><a class=\"css-n2jc4m\" href=\"/a/Full-Time-Jobs-in-Egypt\"><span class=\"css-1ve4b75 eoyjyou0\">Full Time</span></a><a href=\"/a/On-Site-Jobs-in-Egypt\"><span class=\"css-o1vzmt eoyjyou0\">On-site</span></a></div><div><a class=\"css-o171kl\" href=\"/a/Entry-Level-Jobs-in-Egypt\">Entry Level</a><a class=\"css-o171kl\" href=\"/a/Administration-Jobs-in-Egypt\"> <!-- -->· <!-- -->Administration</a><a class=\"css-o171kl\" href=\"/a/Customer-Service-Jobs-in-Egypt\"> <!-- -->· <!-- -->Customer Service/Support</a><a class=\"css-o171kl\" href=\"/a/Operations-Management-Jobs-in-Egypt\"> <!-- -->· <!-- -->Operations/Management</a><a class=\"css-5x9pm1\" href=\"/a/Computer-Skills-Jobs-in-Egypt\"> <!-- -->· <!-- -->Computer Skills</a><a class=\"css-5x9pm1\" href=\"/a/Chat-Jobs-in-Egypt\"> <!-- -->· <!-- -->chat</a><a class=\"css-5x9pm1\" href=\"/a/Customer-Care-Jobs-in-Egypt\"> <!-- -->· <!-- -->Customer Care</a><a class=\"css-5x9pm1\" href=\"/a/Customer-Service-Jobs-in-Egypt\"> <!-- -->· <!-- -->Customer Service</a><a class=\"css-5x9pm1\" href=\"/a/Customer-Support-Jobs-in-Egypt\"> <!-- -->· <!-- -->Customer Support</a><a class=\"css-5x9pm1\" href=\"/a/Mail-Jobs-in-Egypt\"> <!-- -->· <!-- -->Mail</a><a class=\"css-5x9pm1\" href=\"/a/English-Jobs-in-Egypt\"> <!-- -->· <!-- -->English</a></div></div></div></div>,\n",
       " <div class=\"css-1gatmva e1v1l3u10\"><div class=\"css-pkv5jc\"><a href=\"https://wuzzuf.net/jobs/careers/Etisalat-Misr-Egypt-4219\" rel=\"noreferrer\" target=\"_blank\"></a><div class=\"css-laomuu\"><h2 class=\"css-m604qf\"><a class=\"css-o171kl\" href=\"https://wuzzuf.net/jobs/p/utZsnpox3jro-Etisalat-UAE-English-Account-B1-Customer-Service-Representative-Maadi-Etisalat-Egypt-Cairo-Egypt\" rel=\"noreferrer\" target=\"_blank\">Etisalat UAE English Account (B1+) , Customer Service Representative , Maadi</a></h2><div class=\"css-d7j1kk\"><a class=\"css-17s97q8\" href=\"https://wuzzuf.net/jobs/careers/Etisalat-Misr-Egypt-4219\" rel=\"noreferrer\" target=\"_blank\">Etisalat Egypt -</a> <span class=\"css-5wys0k\">Maadi, <!-- -->Cairo, <!-- -->Egypt </span><div class=\"css-4c4ojb\">2 days<!-- --> ago</div></div></div><div class=\"css-y4udm8\"><div class=\"css-1lh32fc\"><a class=\"css-n2jc4m\" href=\"/a/Full-Time-Jobs-in-Egypt\"><span class=\"css-1ve4b75 eoyjyou0\">Full Time</span></a><a href=\"/a/On-Site-Jobs-in-Egypt\"><span class=\"css-o1vzmt eoyjyou0\">On-site</span></a></div><div><a class=\"css-o171kl\" href=\"/a/Entry-Level-Jobs-in-Egypt\">Entry Level</a><a class=\"css-o171kl\" href=\"/a/Administration-Jobs-in-Egypt\"> <!-- -->· <!-- -->Administration</a><a class=\"css-o171kl\" href=\"/a/Customer-Service-Jobs-in-Egypt\"> <!-- -->· <!-- -->Customer Service/Support</a><a class=\"css-o171kl\" href=\"/a/Operations-Management-Jobs-in-Egypt\"> <!-- -->· <!-- -->Operations/Management</a><a class=\"css-5x9pm1\" href=\"/a/Computer-Skills-Jobs-in-Egypt\"> <!-- -->· <!-- -->Computer Skills</a><a class=\"css-5x9pm1\" href=\"/a/Chat-Jobs-in-Egypt\"> <!-- -->· <!-- -->chat</a><a class=\"css-5x9pm1\" href=\"/a/Customer-Care-Jobs-in-Egypt\"> <!-- -->· <!-- -->Customer Care</a><a class=\"css-5x9pm1\" href=\"/a/Customer-Service-Jobs-in-Egypt\"> <!-- -->· <!-- -->Customer Service</a><a class=\"css-5x9pm1\" href=\"/a/Customer-Support-Jobs-in-Egypt\"> <!-- -->· <!-- -->Customer Support</a><a class=\"css-5x9pm1\" href=\"/a/Mail-Jobs-in-Egypt\"> <!-- -->· <!-- -->Mail</a><a class=\"css-5x9pm1\" href=\"/a/English-Jobs-in-Egypt\"> <!-- -->· <!-- -->English</a></div></div></div></div>]"
      ]
     },
     "execution_count": 22,
     "metadata": {},
     "output_type": "execute_result"
    }
   ],
   "source": [
    "jobdivs = soupwuzzuf.find_all(\"div\", attrs={'class': 'css-1gatmva e1v1l3u10'})\n",
    "jobdivs"
   ]
  },
  {
   "cell_type": "code",
   "execution_count": 23,
   "metadata": {},
   "outputs": [
    {
     "data": {
      "text/plain": [
       "15"
      ]
     },
     "execution_count": 23,
     "metadata": {},
     "output_type": "execute_result"
    }
   ],
   "source": [
    "len(jobdivs)"
   ]
  },
  {
   "cell_type": "code",
   "execution_count": 24,
   "metadata": {},
   "outputs": [
    {
     "data": {
      "text/plain": [
       "'Data Science Instructor'"
      ]
     },
     "execution_count": 24,
     "metadata": {},
     "output_type": "execute_result"
    }
   ],
   "source": [
    "# Job Title \n",
    "name = jobdivs[0].find(\"a\", attrs={'class':'css-o171kl'})\n",
    "title = name.text\n",
    "title"
   ]
  },
  {
   "cell_type": "code",
   "execution_count": 25,
   "metadata": {},
   "outputs": [
    {
     "data": {
      "text/plain": [
       "'https://wuzzuf.net/jobs/p/FvXGReCeIGyY-Data-Science-Instructor-Harvest-Educational-Center-Dakahlia-Egypt'"
      ]
     },
     "execution_count": 25,
     "metadata": {},
     "output_type": "execute_result"
    }
   ],
   "source": [
    "# Job Link\n",
    "link = name.attrs['href']\n",
    "link"
   ]
  },
  {
   "cell_type": "code",
   "execution_count": 26,
   "metadata": {},
   "outputs": [
    {
     "data": {
      "text/plain": [
       "'Harvest Educational Center'"
      ]
     },
     "execution_count": 26,
     "metadata": {},
     "output_type": "execute_result"
    }
   ],
   "source": [
    "# Company name\n",
    "CompName = jobdivs[0].find(\"a\", attrs={'class':'css-17s97q8'}).text.replace(\"-\", \"\").strip()\n",
    "CompName  "
   ]
  },
  {
   "cell_type": "code",
   "execution_count": 27,
   "metadata": {},
   "outputs": [
    {
     "data": {
      "text/plain": [
       "'Mansoura, Dakahlia, Egypt'"
      ]
     },
     "execution_count": 27,
     "metadata": {},
     "output_type": "execute_result"
    }
   ],
   "source": [
    "# Location\n",
    "Jobloc = jobdivs[0].find(\"span\", attrs={'class':'css-5wys0k'}).text.strip()\n",
    "Jobloc"
   ]
  },
  {
   "cell_type": "code",
   "execution_count": 28,
   "metadata": {},
   "outputs": [
    {
     "data": {
      "text/plain": [
       "'14 days ago'"
      ]
     },
     "execution_count": 28,
     "metadata": {},
     "output_type": "execute_result"
    }
   ],
   "source": [
    "# PostDate\n",
    "Postdate = jobdivs[0].find('div', attrs={'class':'css-d7j1kk'}).find(\"div\").text\n",
    "Postdate\n"
   ]
  },
  {
   "cell_type": "code",
   "execution_count": 29,
   "metadata": {},
   "outputs": [
    {
     "data": {
      "text/plain": [
       "'Freelance / Project'"
      ]
     },
     "execution_count": 29,
     "metadata": {},
     "output_type": "execute_result"
    }
   ],
   "source": [
    "# Job Type\n",
    "JobType = jobdivs[0].find(\"span\", attrs={'class':'css-1ve4b75 eoyjyou0'}).text\n",
    "JobType"
   ]
  },
  {
   "cell_type": "code",
   "execution_count": 30,
   "metadata": {},
   "outputs": [
    {
     "data": {
      "text/plain": [
       "'Hybrid'"
      ]
     },
     "execution_count": 30,
     "metadata": {},
     "output_type": "execute_result"
    }
   ],
   "source": [
    "# work model\n",
    "Jobmodel = jobdivs[0].find(\"span\", attrs={'class': 'css-o1vzmt eoyjyou0'}).text\n",
    "Jobmodel"
   ]
  },
  {
   "cell_type": "code",
   "execution_count": 31,
   "metadata": {},
   "outputs": [
    {
     "data": {
      "text/plain": [
       "['Experienced · 2+ Yrs of Exp · Training/Instructor · Data Science · Teaching']"
      ]
     },
     "execution_count": 31,
     "metadata": {},
     "output_type": "execute_result"
    }
   ],
   "source": [
    "# experience, no of years,skills\n",
    "Exp = jobdivs[0].find('div', attrs={'class':'css-y4udm8'}).find_all('div')[-1].text.split(' . ')\n",
    "Exp"
   ]
  },
  {
   "cell_type": "code",
   "execution_count": 32,
   "metadata": {},
   "outputs": [
    {
     "data": {
      "text/plain": [
       "['Manager',\n",
       " '7 - 15 Yrs of Exp',\n",
       " 'IT/Software Development',\n",
       " 'Analyst/Research',\n",
       " 'Engineering - Telecom/Technology',\n",
       " 'Analysis',\n",
       " 'business',\n",
       " 'Computer Engineering',\n",
       " 'Computer Science',\n",
       " 'Data Analysis',\n",
       " 'Engineering',\n",
       " 'Microsoft Excel']"
      ]
     },
     "execution_count": 32,
     "metadata": {},
     "output_type": "execute_result"
    }
   ],
   "source": [
    "# experience, no of years,skills\n",
    "Exp = jobdivs[1].find('div', attrs={'class':'css-y4udm8'}).find_all('div')[-1].text.split(' · ')\n",
    "Exp"
   ]
  },
  {
   "cell_type": "code",
   "execution_count": 33,
   "metadata": {},
   "outputs": [
    {
     "data": {
      "text/plain": [
       "'Experienced 2+ Yrs of Exp'"
      ]
     },
     "execution_count": 33,
     "metadata": {},
     "output_type": "execute_result"
    }
   ],
   "source": [
    "# experience, no of years,skills\n",
    "ExpSkillList = jobdivs[0].find('div', attrs={'class':'css-y4udm8'}).find_all('div')[-1].text.split(\" · \")\n",
    "experience = \"\"\n",
    "skills = \"\"\n",
    "\n",
    "# check experienced years\n",
    "if ExpSkillList[1][0].isnumeric():\n",
    "    experience = \" \".join(ExpSkillList[0:2])\n",
    "    skills = \" \".join(ExpSkillList[2:])\n",
    "else:\n",
    "    experience = ExpSkillList[0]\n",
    "    skills = \", \".join(ExpSkillList[1:])\n",
    "experience\n"
   ]
  },
  {
   "cell_type": "code",
   "execution_count": 34,
   "metadata": {},
   "outputs": [
    {
     "data": {
      "text/plain": [
       "'Training/Instructor Data Science Teaching'"
      ]
     },
     "execution_count": 34,
     "metadata": {},
     "output_type": "execute_result"
    }
   ],
   "source": [
    "skills"
   ]
  },
  {
   "cell_type": "code",
   "execution_count": 35,
   "metadata": {},
   "outputs": [],
   "source": [
    "with open (\"Wuzzuf_ds_jobs.csv\", mode='w', encoding='utf-8') as fd:\n",
    "    fd.write(\"Title,Link,CompanyName,Location,PostDate,JobType,YearsofExp,Skills\\n\") # header\n",
    "    # scrapping data from 1st page\n",
    "    for i in range(len(jobdivs)):\n",
    "        # title\n",
    "        name = jobdivs[i].find(\"a\", attrs={'class':'css-o171kl'})\n",
    "        title = name.text\n",
    "        \n",
    "        # link\n",
    "        link = name.attrs['href']\n",
    "        \n",
    "        # Company name\n",
    "        CompName = jobdivs[i].find(\"a\", attrs={'class':'css-17s97q8'}).text.replace(\"-\", \"\").strip()\n",
    "        \n",
    "        # Location\n",
    "        Jobloc = jobdivs[i].find(\"span\", attrs={'class':'css-5wys0k'}).text.strip()\n",
    "\n",
    "        # PostDate\n",
    "        Postdate = jobdivs[i].find('div', attrs={'class':'css-d7j1kk'}).find(\"div\").text\n",
    "        \n",
    "        # Job Type\n",
    "        JobType = jobdivs[i].find(\"span\", attrs={'class':'css-1ve4b75 eoyjyou0'}).text\n",
    "\n",
    "        #Years of Experience and Skills needed for the job\n",
    "        Exp = jobdivs[i].find('div', attrs={'class':'css-y4udm8'}).find_all('div')[-1].text.split(' . ')\n",
    "\n",
    "        # check experienced years\n",
    "        if ExpSkillList[1][0].isnumeric():\n",
    "            experience = \" \".join(ExpSkillList[0:2])\n",
    "            skills = \" \".join(ExpSkillList[2:])\n",
    "        else:\n",
    "            experience = ExpSkillList[0]\n",
    "            skills = \", \".join(ExpSkillList[1:])\n",
    "\n",
    "        fd.write(f\"\\\"{title}\\\",\\\"{link}\\\",\\\"{CompName}\\\",\\\"{Jobloc}\\\",\\\"{Postdate}\\\",\\\"{JobType}\\\",\\\"{Exp}\\\",\\\"{skills}\\\"\\n\")"
   ]
  },
  {
   "cell_type": "code",
   "execution_count": 36,
   "metadata": {},
   "outputs": [
    {
     "data": {
      "text/html": [
       "<div>\n",
       "<style scoped>\n",
       "    .dataframe tbody tr th:only-of-type {\n",
       "        vertical-align: middle;\n",
       "    }\n",
       "\n",
       "    .dataframe tbody tr th {\n",
       "        vertical-align: top;\n",
       "    }\n",
       "\n",
       "    .dataframe thead th {\n",
       "        text-align: right;\n",
       "    }\n",
       "</style>\n",
       "<table border=\"1\" class=\"dataframe\">\n",
       "  <thead>\n",
       "    <tr style=\"text-align: right;\">\n",
       "      <th></th>\n",
       "      <th>Title</th>\n",
       "      <th>Link</th>\n",
       "      <th>CompanyName</th>\n",
       "      <th>Location</th>\n",
       "      <th>PostDate</th>\n",
       "      <th>JobType</th>\n",
       "      <th>YearsofExp</th>\n",
       "      <th>Skills</th>\n",
       "    </tr>\n",
       "  </thead>\n",
       "  <tbody>\n",
       "    <tr>\n",
       "      <th>0</th>\n",
       "      <td>Data Science Instructor</td>\n",
       "      <td>https://wuzzuf.net/jobs/p/FvXGReCeIGyY-Data-Sc...</td>\n",
       "      <td>Harvest Educational Center</td>\n",
       "      <td>Mansoura, Dakahlia, Egypt</td>\n",
       "      <td>14 days ago</td>\n",
       "      <td>Freelance / Project</td>\n",
       "      <td>['Experienced · 2+ Yrs of Exp · Training/Instr...</td>\n",
       "      <td>Training/Instructor Data Science Teaching</td>\n",
       "    </tr>\n",
       "    <tr>\n",
       "      <th>1</th>\n",
       "      <td>Data Analyst Lead / Manager</td>\n",
       "      <td>https://wuzzuf.net/jobs/p/B5JeOhq2kb4Q-Data-An...</td>\n",
       "      <td>WUZZUF</td>\n",
       "      <td>Maadi, Cairo, Egypt</td>\n",
       "      <td>2 days ago</td>\n",
       "      <td>Full Time</td>\n",
       "      <td>['Manager · 7 - 15 Yrs of Exp · IT/Software De...</td>\n",
       "      <td>Training/Instructor Data Science Teaching</td>\n",
       "    </tr>\n",
       "    <tr>\n",
       "      <th>2</th>\n",
       "      <td>PG Data Analyst</td>\n",
       "      <td>https://wuzzuf.net/jobs/p/SCVwIoenLd2x-PG-Data...</td>\n",
       "      <td>Nile University</td>\n",
       "      <td>Sheikh Zayed, Giza, Egypt</td>\n",
       "      <td>9 days ago</td>\n",
       "      <td>Full Time</td>\n",
       "      <td>['Experienced · 2 - 4 Yrs of Exp · Analyst/Res...</td>\n",
       "      <td>Training/Instructor Data Science Teaching</td>\n",
       "    </tr>\n",
       "    <tr>\n",
       "      <th>3</th>\n",
       "      <td>Data Analyst</td>\n",
       "      <td>https://wuzzuf.net/jobs/p/QyS46Vr1VCX2-Data-An...</td>\n",
       "      <td>United Elite Company</td>\n",
       "      <td>Al Ain, United Arab Emirates</td>\n",
       "      <td>10 days ago</td>\n",
       "      <td>Full Time</td>\n",
       "      <td>['Entry Level · 1 - 3 Yrs of Exp · Banking · B...</td>\n",
       "      <td>Training/Instructor Data Science Teaching</td>\n",
       "    </tr>\n",
       "    <tr>\n",
       "      <th>4</th>\n",
       "      <td>Data Analyst</td>\n",
       "      <td>https://wuzzuf.net/jobs/p/A6lmv3kBqvXu-Data-An...</td>\n",
       "      <td>waffarha.com</td>\n",
       "      <td>Sheraton, Cairo, Egypt</td>\n",
       "      <td>17 days ago</td>\n",
       "      <td>Full Time</td>\n",
       "      <td>['Experienced · 2 - 3 Yrs of Exp · Accounting/...</td>\n",
       "      <td>Training/Instructor Data Science Teaching</td>\n",
       "    </tr>\n",
       "    <tr>\n",
       "      <th>5</th>\n",
       "      <td>Senior Data Analyst</td>\n",
       "      <td>https://wuzzuf.net/jobs/p/BLrUSlxEbEKm-Senior-...</td>\n",
       "      <td>Al Ahly Medical Company</td>\n",
       "      <td>Giza, Giza, Egypt</td>\n",
       "      <td>25 days ago</td>\n",
       "      <td>Full Time</td>\n",
       "      <td>['Experienced · 3 - 5 Yrs of Exp · Analyst/Res...</td>\n",
       "      <td>Training/Instructor Data Science Teaching</td>\n",
       "    </tr>\n",
       "    <tr>\n",
       "      <th>6</th>\n",
       "      <td>economics and political science researcher (Ex...</td>\n",
       "      <td>https://wuzzuf.net/jobs/p/jrIWIZdIbmGA-economi...</td>\n",
       "      <td>الناجح للخدمات والاستشارات التعليمية والطلابية</td>\n",
       "      <td>Mokattam, Cairo, Egypt</td>\n",
       "      <td>1 month ago</td>\n",
       "      <td>Full Time</td>\n",
       "      <td>['Experienced · 2 - 20 Yrs of Exp · Writing/Ed...</td>\n",
       "      <td>Training/Instructor Data Science Teaching</td>\n",
       "    </tr>\n",
       "    <tr>\n",
       "      <th>7</th>\n",
       "      <td>Data Analyst</td>\n",
       "      <td>https://wuzzuf.net/jobs/p/MSKFu1ytuKG0-Data-An...</td>\n",
       "      <td>Mobility Pro DMCC</td>\n",
       "      <td>Azarita, Alexandria, Egypt</td>\n",
       "      <td>1 month ago</td>\n",
       "      <td>Full Time</td>\n",
       "      <td>['Experienced · 2 - 5 Yrs of Exp · IT/Software...</td>\n",
       "      <td>Training/Instructor Data Science Teaching</td>\n",
       "    </tr>\n",
       "    <tr>\n",
       "      <th>8</th>\n",
       "      <td>Master Data Head</td>\n",
       "      <td>https://wuzzuf.net/jobs/p/aKyVcr2YeALn-Master-...</td>\n",
       "      <td>ArmaHSA</td>\n",
       "      <td>New Cairo, Cairo, Egypt</td>\n",
       "      <td>1 month ago</td>\n",
       "      <td>Full Time</td>\n",
       "      <td>['Experienced · 6 - 8 Yrs of Exp · IT/Software...</td>\n",
       "      <td>Training/Instructor Data Science Teaching</td>\n",
       "    </tr>\n",
       "    <tr>\n",
       "      <th>9</th>\n",
       "      <td>Data Analyst</td>\n",
       "      <td>https://wuzzuf.net/jobs/p/gwMXCIAsEVDU-Data-An...</td>\n",
       "      <td>Confidential</td>\n",
       "      <td>Heliopolis, Cairo, Egypt</td>\n",
       "      <td>5 hours ago</td>\n",
       "      <td>Full Time</td>\n",
       "      <td>['Experienced · 3 - 5 Yrs of Exp · IT/Software...</td>\n",
       "      <td>Training/Instructor Data Science Teaching</td>\n",
       "    </tr>\n",
       "    <tr>\n",
       "      <th>10</th>\n",
       "      <td>Sales Data Analyst</td>\n",
       "      <td>https://wuzzuf.net/jobs/p/uUVolSnUtyNh-Sales-D...</td>\n",
       "      <td>Koning Food Industries</td>\n",
       "      <td>Cairo, Egypt</td>\n",
       "      <td>7 days ago</td>\n",
       "      <td>Full Time</td>\n",
       "      <td>['Experienced · 5 - 10 Yrs of Exp · Analyst/Re...</td>\n",
       "      <td>Training/Instructor Data Science Teaching</td>\n",
       "    </tr>\n",
       "    <tr>\n",
       "      <th>11</th>\n",
       "      <td>Senior Java Developer</td>\n",
       "      <td>https://wuzzuf.net/jobs/p/WOMMMP4kDzB9-Senior-...</td>\n",
       "      <td>Informatique Education</td>\n",
       "      <td>Cairo, Egypt</td>\n",
       "      <td>7 days ago</td>\n",
       "      <td>Full Time</td>\n",
       "      <td>['Experienced · 5 - 8 Yrs of Exp · IT/Software...</td>\n",
       "      <td>Training/Instructor Data Science Teaching</td>\n",
       "    </tr>\n",
       "    <tr>\n",
       "      <th>12</th>\n",
       "      <td>Network Security Specialist</td>\n",
       "      <td>https://wuzzuf.net/jobs/p/ItjFFbelfxoW-Network...</td>\n",
       "      <td>Virtual Vision (V2)</td>\n",
       "      <td>Nasr City, Cairo, Egypt</td>\n",
       "      <td>4 days ago</td>\n",
       "      <td>Full Time</td>\n",
       "      <td>['Experienced · 5+ Yrs of Exp · IT/Software De...</td>\n",
       "      <td>Training/Instructor Data Science Teaching</td>\n",
       "    </tr>\n",
       "    <tr>\n",
       "      <th>13</th>\n",
       "      <td>E-mail &amp; Chat Account (Etisalat UAE) , B2 Engl...</td>\n",
       "      <td>https://wuzzuf.net/jobs/p/auo58aagyYFI-E-mail-...</td>\n",
       "      <td>Etisalat Egypt</td>\n",
       "      <td>Maadi, Cairo, Egypt</td>\n",
       "      <td>2 days ago</td>\n",
       "      <td>Full Time</td>\n",
       "      <td>['Entry Level · Administration · Customer Serv...</td>\n",
       "      <td>Training/Instructor Data Science Teaching</td>\n",
       "    </tr>\n",
       "    <tr>\n",
       "      <th>14</th>\n",
       "      <td>Etisalat UAE English Account (B1+) , Customer ...</td>\n",
       "      <td>https://wuzzuf.net/jobs/p/utZsnpox3jro-Etisala...</td>\n",
       "      <td>Etisalat Egypt</td>\n",
       "      <td>Maadi, Cairo, Egypt</td>\n",
       "      <td>2 days ago</td>\n",
       "      <td>Full Time</td>\n",
       "      <td>['Entry Level · Administration · Customer Serv...</td>\n",
       "      <td>Training/Instructor Data Science Teaching</td>\n",
       "    </tr>\n",
       "  </tbody>\n",
       "</table>\n",
       "</div>"
      ],
      "text/plain": [
       "                                                Title  \\\n",
       "0                             Data Science Instructor   \n",
       "1                         Data Analyst Lead / Manager   \n",
       "2                                     PG Data Analyst   \n",
       "3                                        Data Analyst   \n",
       "4                                        Data Analyst   \n",
       "5                                 Senior Data Analyst   \n",
       "6   economics and political science researcher (Ex...   \n",
       "7                                        Data Analyst   \n",
       "8                                    Master Data Head   \n",
       "9                                        Data Analyst   \n",
       "10                                 Sales Data Analyst   \n",
       "11                              Senior Java Developer   \n",
       "12                        Network Security Specialist   \n",
       "13  E-mail & Chat Account (Etisalat UAE) , B2 Engl...   \n",
       "14  Etisalat UAE English Account (B1+) , Customer ...   \n",
       "\n",
       "                                                 Link  \\\n",
       "0   https://wuzzuf.net/jobs/p/FvXGReCeIGyY-Data-Sc...   \n",
       "1   https://wuzzuf.net/jobs/p/B5JeOhq2kb4Q-Data-An...   \n",
       "2   https://wuzzuf.net/jobs/p/SCVwIoenLd2x-PG-Data...   \n",
       "3   https://wuzzuf.net/jobs/p/QyS46Vr1VCX2-Data-An...   \n",
       "4   https://wuzzuf.net/jobs/p/A6lmv3kBqvXu-Data-An...   \n",
       "5   https://wuzzuf.net/jobs/p/BLrUSlxEbEKm-Senior-...   \n",
       "6   https://wuzzuf.net/jobs/p/jrIWIZdIbmGA-economi...   \n",
       "7   https://wuzzuf.net/jobs/p/MSKFu1ytuKG0-Data-An...   \n",
       "8   https://wuzzuf.net/jobs/p/aKyVcr2YeALn-Master-...   \n",
       "9   https://wuzzuf.net/jobs/p/gwMXCIAsEVDU-Data-An...   \n",
       "10  https://wuzzuf.net/jobs/p/uUVolSnUtyNh-Sales-D...   \n",
       "11  https://wuzzuf.net/jobs/p/WOMMMP4kDzB9-Senior-...   \n",
       "12  https://wuzzuf.net/jobs/p/ItjFFbelfxoW-Network...   \n",
       "13  https://wuzzuf.net/jobs/p/auo58aagyYFI-E-mail-...   \n",
       "14  https://wuzzuf.net/jobs/p/utZsnpox3jro-Etisala...   \n",
       "\n",
       "                                       CompanyName  \\\n",
       "0                       Harvest Educational Center   \n",
       "1                                           WUZZUF   \n",
       "2                                  Nile University   \n",
       "3                             United Elite Company   \n",
       "4                                     waffarha.com   \n",
       "5                          Al Ahly Medical Company   \n",
       "6   الناجح للخدمات والاستشارات التعليمية والطلابية   \n",
       "7                                Mobility Pro DMCC   \n",
       "8                                          ArmaHSA   \n",
       "9                                     Confidential   \n",
       "10                          Koning Food Industries   \n",
       "11                          Informatique Education   \n",
       "12                             Virtual Vision (V2)   \n",
       "13                                  Etisalat Egypt   \n",
       "14                                  Etisalat Egypt   \n",
       "\n",
       "                        Location     PostDate              JobType  \\\n",
       "0      Mansoura, Dakahlia, Egypt  14 days ago  Freelance / Project   \n",
       "1            Maadi, Cairo, Egypt   2 days ago            Full Time   \n",
       "2      Sheikh Zayed, Giza, Egypt   9 days ago            Full Time   \n",
       "3   Al Ain, United Arab Emirates  10 days ago            Full Time   \n",
       "4         Sheraton, Cairo, Egypt  17 days ago            Full Time   \n",
       "5              Giza, Giza, Egypt  25 days ago            Full Time   \n",
       "6         Mokattam, Cairo, Egypt  1 month ago            Full Time   \n",
       "7     Azarita, Alexandria, Egypt  1 month ago            Full Time   \n",
       "8        New Cairo, Cairo, Egypt  1 month ago            Full Time   \n",
       "9       Heliopolis, Cairo, Egypt  5 hours ago            Full Time   \n",
       "10                  Cairo, Egypt   7 days ago            Full Time   \n",
       "11                  Cairo, Egypt   7 days ago            Full Time   \n",
       "12       Nasr City, Cairo, Egypt   4 days ago            Full Time   \n",
       "13           Maadi, Cairo, Egypt   2 days ago            Full Time   \n",
       "14           Maadi, Cairo, Egypt   2 days ago            Full Time   \n",
       "\n",
       "                                           YearsofExp  \\\n",
       "0   ['Experienced · 2+ Yrs of Exp · Training/Instr...   \n",
       "1   ['Manager · 7 - 15 Yrs of Exp · IT/Software De...   \n",
       "2   ['Experienced · 2 - 4 Yrs of Exp · Analyst/Res...   \n",
       "3   ['Entry Level · 1 - 3 Yrs of Exp · Banking · B...   \n",
       "4   ['Experienced · 2 - 3 Yrs of Exp · Accounting/...   \n",
       "5   ['Experienced · 3 - 5 Yrs of Exp · Analyst/Res...   \n",
       "6   ['Experienced · 2 - 20 Yrs of Exp · Writing/Ed...   \n",
       "7   ['Experienced · 2 - 5 Yrs of Exp · IT/Software...   \n",
       "8   ['Experienced · 6 - 8 Yrs of Exp · IT/Software...   \n",
       "9   ['Experienced · 3 - 5 Yrs of Exp · IT/Software...   \n",
       "10  ['Experienced · 5 - 10 Yrs of Exp · Analyst/Re...   \n",
       "11  ['Experienced · 5 - 8 Yrs of Exp · IT/Software...   \n",
       "12  ['Experienced · 5+ Yrs of Exp · IT/Software De...   \n",
       "13  ['Entry Level · Administration · Customer Serv...   \n",
       "14  ['Entry Level · Administration · Customer Serv...   \n",
       "\n",
       "                                       Skills  \n",
       "0   Training/Instructor Data Science Teaching  \n",
       "1   Training/Instructor Data Science Teaching  \n",
       "2   Training/Instructor Data Science Teaching  \n",
       "3   Training/Instructor Data Science Teaching  \n",
       "4   Training/Instructor Data Science Teaching  \n",
       "5   Training/Instructor Data Science Teaching  \n",
       "6   Training/Instructor Data Science Teaching  \n",
       "7   Training/Instructor Data Science Teaching  \n",
       "8   Training/Instructor Data Science Teaching  \n",
       "9   Training/Instructor Data Science Teaching  \n",
       "10  Training/Instructor Data Science Teaching  \n",
       "11  Training/Instructor Data Science Teaching  \n",
       "12  Training/Instructor Data Science Teaching  \n",
       "13  Training/Instructor Data Science Teaching  \n",
       "14  Training/Instructor Data Science Teaching  "
      ]
     },
     "execution_count": 36,
     "metadata": {},
     "output_type": "execute_result"
    }
   ],
   "source": [
    "df = pd.read_csv(\"Wuzzuf_ds_jobs.csv\")\n",
    "df"
   ]
  }
 ],
 "metadata": {
  "kernelspec": {
   "display_name": "Pandas",
   "language": "python",
   "name": "python3"
  },
  "language_info": {
   "codemirror_mode": {
    "name": "ipython",
    "version": 3
   },
   "file_extension": ".py",
   "mimetype": "text/x-python",
   "name": "python",
   "nbconvert_exporter": "python",
   "pygments_lexer": "ipython3",
   "version": "3.11.9"
  }
 },
 "nbformat": 4,
 "nbformat_minor": 2
}
